{
 "cells": [
  {
   "cell_type": "code",
   "execution_count": 1,
   "metadata": {},
   "outputs": [],
   "source": [
    "import pandas as pd"
   ]
  },
  {
   "cell_type": "code",
   "execution_count": 2,
   "metadata": {},
   "outputs": [],
   "source": [
    "data=pd.read_csv(\"healthcare-dataset-stroke-data.csv\")"
   ]
  },
  {
   "cell_type": "code",
   "execution_count": 3,
   "metadata": {},
   "outputs": [
    {
     "name": "stdout",
     "output_type": "stream",
     "text": [
      "<class 'pandas.core.frame.DataFrame'>\n",
      "RangeIndex: 5110 entries, 0 to 5109\n",
      "Data columns (total 12 columns):\n",
      " #   Column             Non-Null Count  Dtype  \n",
      "---  ------             --------------  -----  \n",
      " 0   id                 5110 non-null   int64  \n",
      " 1   gender             5110 non-null   object \n",
      " 2   age                5110 non-null   float64\n",
      " 3   hypertension       5110 non-null   int64  \n",
      " 4   heart_disease      5110 non-null   int64  \n",
      " 5   ever_married       5110 non-null   object \n",
      " 6   work_type          5110 non-null   object \n",
      " 7   Residence_type     5110 non-null   object \n",
      " 8   avg_glucose_level  5110 non-null   float64\n",
      " 9   bmi                4909 non-null   float64\n",
      " 10  smoking_status     5110 non-null   object \n",
      " 11  stroke             5110 non-null   int64  \n",
      "dtypes: float64(3), int64(4), object(5)\n",
      "memory usage: 479.2+ KB\n"
     ]
    }
   ],
   "source": [
    "data.info()"
   ]
  },
  {
   "cell_type": "code",
   "execution_count": 4,
   "metadata": {},
   "outputs": [
    {
     "data": {
      "text/plain": [
       "id                     0\n",
       "gender                 0\n",
       "age                    0\n",
       "hypertension           0\n",
       "heart_disease          0\n",
       "ever_married           0\n",
       "work_type              0\n",
       "Residence_type         0\n",
       "avg_glucose_level      0\n",
       "bmi                  201\n",
       "smoking_status         0\n",
       "stroke                 0\n",
       "dtype: int64"
      ]
     },
     "execution_count": 4,
     "metadata": {},
     "output_type": "execute_result"
    }
   ],
   "source": [
    "data.isnull().sum()"
   ]
  },
  {
   "cell_type": "code",
   "execution_count": 5,
   "metadata": {},
   "outputs": [
    {
     "data": {
      "text/html": [
       "<div>\n",
       "<style scoped>\n",
       "    .dataframe tbody tr th:only-of-type {\n",
       "        vertical-align: middle;\n",
       "    }\n",
       "\n",
       "    .dataframe tbody tr th {\n",
       "        vertical-align: top;\n",
       "    }\n",
       "\n",
       "    .dataframe thead th {\n",
       "        text-align: right;\n",
       "    }\n",
       "</style>\n",
       "<table border=\"1\" class=\"dataframe\">\n",
       "  <thead>\n",
       "    <tr style=\"text-align: right;\">\n",
       "      <th></th>\n",
       "      <th>id</th>\n",
       "      <th>age</th>\n",
       "      <th>hypertension</th>\n",
       "      <th>heart_disease</th>\n",
       "      <th>avg_glucose_level</th>\n",
       "      <th>bmi</th>\n",
       "      <th>stroke</th>\n",
       "    </tr>\n",
       "  </thead>\n",
       "  <tbody>\n",
       "    <tr>\n",
       "      <th>count</th>\n",
       "      <td>5110.000000</td>\n",
       "      <td>5110.000000</td>\n",
       "      <td>5110.000000</td>\n",
       "      <td>5110.000000</td>\n",
       "      <td>5110.000000</td>\n",
       "      <td>4909.000000</td>\n",
       "      <td>5110.000000</td>\n",
       "    </tr>\n",
       "    <tr>\n",
       "      <th>mean</th>\n",
       "      <td>36517.829354</td>\n",
       "      <td>43.226614</td>\n",
       "      <td>0.097456</td>\n",
       "      <td>0.054012</td>\n",
       "      <td>106.147677</td>\n",
       "      <td>28.893237</td>\n",
       "      <td>0.048728</td>\n",
       "    </tr>\n",
       "    <tr>\n",
       "      <th>std</th>\n",
       "      <td>21161.721625</td>\n",
       "      <td>22.612647</td>\n",
       "      <td>0.296607</td>\n",
       "      <td>0.226063</td>\n",
       "      <td>45.283560</td>\n",
       "      <td>7.854067</td>\n",
       "      <td>0.215320</td>\n",
       "    </tr>\n",
       "    <tr>\n",
       "      <th>min</th>\n",
       "      <td>67.000000</td>\n",
       "      <td>0.080000</td>\n",
       "      <td>0.000000</td>\n",
       "      <td>0.000000</td>\n",
       "      <td>55.120000</td>\n",
       "      <td>10.300000</td>\n",
       "      <td>0.000000</td>\n",
       "    </tr>\n",
       "    <tr>\n",
       "      <th>25%</th>\n",
       "      <td>17741.250000</td>\n",
       "      <td>25.000000</td>\n",
       "      <td>0.000000</td>\n",
       "      <td>0.000000</td>\n",
       "      <td>77.245000</td>\n",
       "      <td>23.500000</td>\n",
       "      <td>0.000000</td>\n",
       "    </tr>\n",
       "    <tr>\n",
       "      <th>50%</th>\n",
       "      <td>36932.000000</td>\n",
       "      <td>45.000000</td>\n",
       "      <td>0.000000</td>\n",
       "      <td>0.000000</td>\n",
       "      <td>91.885000</td>\n",
       "      <td>28.100000</td>\n",
       "      <td>0.000000</td>\n",
       "    </tr>\n",
       "    <tr>\n",
       "      <th>75%</th>\n",
       "      <td>54682.000000</td>\n",
       "      <td>61.000000</td>\n",
       "      <td>0.000000</td>\n",
       "      <td>0.000000</td>\n",
       "      <td>114.090000</td>\n",
       "      <td>33.100000</td>\n",
       "      <td>0.000000</td>\n",
       "    </tr>\n",
       "    <tr>\n",
       "      <th>max</th>\n",
       "      <td>72940.000000</td>\n",
       "      <td>82.000000</td>\n",
       "      <td>1.000000</td>\n",
       "      <td>1.000000</td>\n",
       "      <td>271.740000</td>\n",
       "      <td>97.600000</td>\n",
       "      <td>1.000000</td>\n",
       "    </tr>\n",
       "  </tbody>\n",
       "</table>\n",
       "</div>"
      ],
      "text/plain": [
       "                 id          age  hypertension  heart_disease  \\\n",
       "count   5110.000000  5110.000000   5110.000000    5110.000000   \n",
       "mean   36517.829354    43.226614      0.097456       0.054012   \n",
       "std    21161.721625    22.612647      0.296607       0.226063   \n",
       "min       67.000000     0.080000      0.000000       0.000000   \n",
       "25%    17741.250000    25.000000      0.000000       0.000000   \n",
       "50%    36932.000000    45.000000      0.000000       0.000000   \n",
       "75%    54682.000000    61.000000      0.000000       0.000000   \n",
       "max    72940.000000    82.000000      1.000000       1.000000   \n",
       "\n",
       "       avg_glucose_level          bmi       stroke  \n",
       "count        5110.000000  4909.000000  5110.000000  \n",
       "mean          106.147677    28.893237     0.048728  \n",
       "std            45.283560     7.854067     0.215320  \n",
       "min            55.120000    10.300000     0.000000  \n",
       "25%            77.245000    23.500000     0.000000  \n",
       "50%            91.885000    28.100000     0.000000  \n",
       "75%           114.090000    33.100000     0.000000  \n",
       "max           271.740000    97.600000     1.000000  "
      ]
     },
     "execution_count": 5,
     "metadata": {},
     "output_type": "execute_result"
    }
   ],
   "source": [
    "data.describe()"
   ]
  },
  {
   "cell_type": "code",
   "execution_count": null,
   "metadata": {},
   "outputs": [],
   "source": []
  },
  {
   "cell_type": "markdown",
   "metadata": {},
   "source": [
    "# Missing Values Handling "
   ]
  },
  {
   "cell_type": "code",
   "execution_count": 6,
   "metadata": {},
   "outputs": [
    {
     "data": {
      "text/plain": [
       "28.7    41\n",
       "28.4    38\n",
       "27.7    37\n",
       "27.6    37\n",
       "26.7    37\n",
       "        ..\n",
       "48.0     1\n",
       "49.4     1\n",
       "47.4     1\n",
       "46.6     1\n",
       "54.0     1\n",
       "Name: bmi, Length: 418, dtype: int64"
      ]
     },
     "execution_count": 6,
     "metadata": {},
     "output_type": "execute_result"
    }
   ],
   "source": [
    "data['bmi'].value_counts()"
   ]
  },
  {
   "cell_type": "code",
   "execution_count": 7,
   "metadata": {},
   "outputs": [],
   "source": [
    "data.bmi=data.bmi.fillna(28.7)"
   ]
  },
  {
   "cell_type": "code",
   "execution_count": null,
   "metadata": {},
   "outputs": [],
   "source": []
  },
  {
   "cell_type": "code",
   "execution_count": 8,
   "metadata": {},
   "outputs": [],
   "source": [
    "#missing_bmi=data.bmi.mean()\n",
    "#missing_bmi = float(\"{:.1f}\".format(missing_bmi))\n",
    "#missing_bmi"
   ]
  },
  {
   "cell_type": "code",
   "execution_count": 9,
   "metadata": {},
   "outputs": [],
   "source": [
    "#data.bmi=data.bmi.fillna(missing_bmi)"
   ]
  },
  {
   "cell_type": "code",
   "execution_count": null,
   "metadata": {},
   "outputs": [],
   "source": []
  },
  {
   "cell_type": "code",
   "execution_count": 10,
   "metadata": {},
   "outputs": [
    {
     "data": {
      "text/html": [
       "<div>\n",
       "<style scoped>\n",
       "    .dataframe tbody tr th:only-of-type {\n",
       "        vertical-align: middle;\n",
       "    }\n",
       "\n",
       "    .dataframe tbody tr th {\n",
       "        vertical-align: top;\n",
       "    }\n",
       "\n",
       "    .dataframe thead th {\n",
       "        text-align: right;\n",
       "    }\n",
       "</style>\n",
       "<table border=\"1\" class=\"dataframe\">\n",
       "  <thead>\n",
       "    <tr style=\"text-align: right;\">\n",
       "      <th></th>\n",
       "      <th>id</th>\n",
       "      <th>gender</th>\n",
       "      <th>age</th>\n",
       "      <th>hypertension</th>\n",
       "      <th>heart_disease</th>\n",
       "      <th>ever_married</th>\n",
       "      <th>work_type</th>\n",
       "      <th>Residence_type</th>\n",
       "      <th>avg_glucose_level</th>\n",
       "      <th>bmi</th>\n",
       "      <th>smoking_status</th>\n",
       "      <th>stroke</th>\n",
       "    </tr>\n",
       "  </thead>\n",
       "  <tbody>\n",
       "    <tr>\n",
       "      <th>0</th>\n",
       "      <td>9046</td>\n",
       "      <td>Male</td>\n",
       "      <td>67.0</td>\n",
       "      <td>0</td>\n",
       "      <td>1</td>\n",
       "      <td>Yes</td>\n",
       "      <td>Private</td>\n",
       "      <td>Urban</td>\n",
       "      <td>228.69</td>\n",
       "      <td>36.6</td>\n",
       "      <td>formerly smoked</td>\n",
       "      <td>1</td>\n",
       "    </tr>\n",
       "    <tr>\n",
       "      <th>1</th>\n",
       "      <td>51676</td>\n",
       "      <td>Female</td>\n",
       "      <td>61.0</td>\n",
       "      <td>0</td>\n",
       "      <td>0</td>\n",
       "      <td>Yes</td>\n",
       "      <td>Self-employed</td>\n",
       "      <td>Rural</td>\n",
       "      <td>202.21</td>\n",
       "      <td>28.7</td>\n",
       "      <td>never smoked</td>\n",
       "      <td>1</td>\n",
       "    </tr>\n",
       "    <tr>\n",
       "      <th>2</th>\n",
       "      <td>31112</td>\n",
       "      <td>Male</td>\n",
       "      <td>80.0</td>\n",
       "      <td>0</td>\n",
       "      <td>1</td>\n",
       "      <td>Yes</td>\n",
       "      <td>Private</td>\n",
       "      <td>Rural</td>\n",
       "      <td>105.92</td>\n",
       "      <td>32.5</td>\n",
       "      <td>never smoked</td>\n",
       "      <td>1</td>\n",
       "    </tr>\n",
       "    <tr>\n",
       "      <th>3</th>\n",
       "      <td>60182</td>\n",
       "      <td>Female</td>\n",
       "      <td>49.0</td>\n",
       "      <td>0</td>\n",
       "      <td>0</td>\n",
       "      <td>Yes</td>\n",
       "      <td>Private</td>\n",
       "      <td>Urban</td>\n",
       "      <td>171.23</td>\n",
       "      <td>34.4</td>\n",
       "      <td>smokes</td>\n",
       "      <td>1</td>\n",
       "    </tr>\n",
       "    <tr>\n",
       "      <th>4</th>\n",
       "      <td>1665</td>\n",
       "      <td>Female</td>\n",
       "      <td>79.0</td>\n",
       "      <td>1</td>\n",
       "      <td>0</td>\n",
       "      <td>Yes</td>\n",
       "      <td>Self-employed</td>\n",
       "      <td>Rural</td>\n",
       "      <td>174.12</td>\n",
       "      <td>24.0</td>\n",
       "      <td>never smoked</td>\n",
       "      <td>1</td>\n",
       "    </tr>\n",
       "    <tr>\n",
       "      <th>...</th>\n",
       "      <td>...</td>\n",
       "      <td>...</td>\n",
       "      <td>...</td>\n",
       "      <td>...</td>\n",
       "      <td>...</td>\n",
       "      <td>...</td>\n",
       "      <td>...</td>\n",
       "      <td>...</td>\n",
       "      <td>...</td>\n",
       "      <td>...</td>\n",
       "      <td>...</td>\n",
       "      <td>...</td>\n",
       "    </tr>\n",
       "    <tr>\n",
       "      <th>5105</th>\n",
       "      <td>18234</td>\n",
       "      <td>Female</td>\n",
       "      <td>80.0</td>\n",
       "      <td>1</td>\n",
       "      <td>0</td>\n",
       "      <td>Yes</td>\n",
       "      <td>Private</td>\n",
       "      <td>Urban</td>\n",
       "      <td>83.75</td>\n",
       "      <td>28.7</td>\n",
       "      <td>never smoked</td>\n",
       "      <td>0</td>\n",
       "    </tr>\n",
       "    <tr>\n",
       "      <th>5106</th>\n",
       "      <td>44873</td>\n",
       "      <td>Female</td>\n",
       "      <td>81.0</td>\n",
       "      <td>0</td>\n",
       "      <td>0</td>\n",
       "      <td>Yes</td>\n",
       "      <td>Self-employed</td>\n",
       "      <td>Urban</td>\n",
       "      <td>125.20</td>\n",
       "      <td>40.0</td>\n",
       "      <td>never smoked</td>\n",
       "      <td>0</td>\n",
       "    </tr>\n",
       "    <tr>\n",
       "      <th>5107</th>\n",
       "      <td>19723</td>\n",
       "      <td>Female</td>\n",
       "      <td>35.0</td>\n",
       "      <td>0</td>\n",
       "      <td>0</td>\n",
       "      <td>Yes</td>\n",
       "      <td>Self-employed</td>\n",
       "      <td>Rural</td>\n",
       "      <td>82.99</td>\n",
       "      <td>30.6</td>\n",
       "      <td>never smoked</td>\n",
       "      <td>0</td>\n",
       "    </tr>\n",
       "    <tr>\n",
       "      <th>5108</th>\n",
       "      <td>37544</td>\n",
       "      <td>Male</td>\n",
       "      <td>51.0</td>\n",
       "      <td>0</td>\n",
       "      <td>0</td>\n",
       "      <td>Yes</td>\n",
       "      <td>Private</td>\n",
       "      <td>Rural</td>\n",
       "      <td>166.29</td>\n",
       "      <td>25.6</td>\n",
       "      <td>formerly smoked</td>\n",
       "      <td>0</td>\n",
       "    </tr>\n",
       "    <tr>\n",
       "      <th>5109</th>\n",
       "      <td>44679</td>\n",
       "      <td>Female</td>\n",
       "      <td>44.0</td>\n",
       "      <td>0</td>\n",
       "      <td>0</td>\n",
       "      <td>Yes</td>\n",
       "      <td>Govt_job</td>\n",
       "      <td>Urban</td>\n",
       "      <td>85.28</td>\n",
       "      <td>26.2</td>\n",
       "      <td>Unknown</td>\n",
       "      <td>0</td>\n",
       "    </tr>\n",
       "  </tbody>\n",
       "</table>\n",
       "<p>5110 rows × 12 columns</p>\n",
       "</div>"
      ],
      "text/plain": [
       "         id  gender   age  hypertension  heart_disease ever_married  \\\n",
       "0      9046    Male  67.0             0              1          Yes   \n",
       "1     51676  Female  61.0             0              0          Yes   \n",
       "2     31112    Male  80.0             0              1          Yes   \n",
       "3     60182  Female  49.0             0              0          Yes   \n",
       "4      1665  Female  79.0             1              0          Yes   \n",
       "...     ...     ...   ...           ...            ...          ...   \n",
       "5105  18234  Female  80.0             1              0          Yes   \n",
       "5106  44873  Female  81.0             0              0          Yes   \n",
       "5107  19723  Female  35.0             0              0          Yes   \n",
       "5108  37544    Male  51.0             0              0          Yes   \n",
       "5109  44679  Female  44.0             0              0          Yes   \n",
       "\n",
       "          work_type Residence_type  avg_glucose_level   bmi   smoking_status  \\\n",
       "0           Private          Urban             228.69  36.6  formerly smoked   \n",
       "1     Self-employed          Rural             202.21  28.7     never smoked   \n",
       "2           Private          Rural             105.92  32.5     never smoked   \n",
       "3           Private          Urban             171.23  34.4           smokes   \n",
       "4     Self-employed          Rural             174.12  24.0     never smoked   \n",
       "...             ...            ...                ...   ...              ...   \n",
       "5105        Private          Urban              83.75  28.7     never smoked   \n",
       "5106  Self-employed          Urban             125.20  40.0     never smoked   \n",
       "5107  Self-employed          Rural              82.99  30.6     never smoked   \n",
       "5108        Private          Rural             166.29  25.6  formerly smoked   \n",
       "5109       Govt_job          Urban              85.28  26.2          Unknown   \n",
       "\n",
       "      stroke  \n",
       "0          1  \n",
       "1          1  \n",
       "2          1  \n",
       "3          1  \n",
       "4          1  \n",
       "...      ...  \n",
       "5105       0  \n",
       "5106       0  \n",
       "5107       0  \n",
       "5108       0  \n",
       "5109       0  \n",
       "\n",
       "[5110 rows x 12 columns]"
      ]
     },
     "execution_count": 10,
     "metadata": {},
     "output_type": "execute_result"
    }
   ],
   "source": [
    "data"
   ]
  },
  {
   "cell_type": "code",
   "execution_count": 1,
   "metadata": {},
   "outputs": [],
   "source": [
    "#data['bmi'].value_counts()"
   ]
  },
  {
   "cell_type": "code",
   "execution_count": null,
   "metadata": {},
   "outputs": [],
   "source": []
  },
  {
   "cell_type": "code",
   "execution_count": null,
   "metadata": {},
   "outputs": [],
   "source": []
  },
  {
   "cell_type": "code",
   "execution_count": 12,
   "metadata": {},
   "outputs": [
    {
     "data": {
      "text/plain": [
       "Female    2994\n",
       "Male      2115\n",
       "Other        1\n",
       "Name: gender, dtype: int64"
      ]
     },
     "execution_count": 12,
     "metadata": {},
     "output_type": "execute_result"
    }
   ],
   "source": [
    "data.isnull().sum()\n",
    "data[\"gender\"].value_counts()"
   ]
  },
  {
   "cell_type": "code",
   "execution_count": 13,
   "metadata": {
    "scrolled": true
   },
   "outputs": [
    {
     "name": "stdout",
     "output_type": "stream",
     "text": [
      "<class 'pandas.core.frame.DataFrame'>\n",
      "RangeIndex: 5110 entries, 0 to 5109\n",
      "Data columns (total 12 columns):\n",
      " #   Column             Non-Null Count  Dtype  \n",
      "---  ------             --------------  -----  \n",
      " 0   id                 5110 non-null   int64  \n",
      " 1   gender             5110 non-null   object \n",
      " 2   age                5110 non-null   float64\n",
      " 3   hypertension       5110 non-null   int64  \n",
      " 4   heart_disease      5110 non-null   int64  \n",
      " 5   ever_married       5110 non-null   object \n",
      " 6   work_type          5110 non-null   object \n",
      " 7   Residence_type     5110 non-null   object \n",
      " 8   avg_glucose_level  5110 non-null   float64\n",
      " 9   bmi                5110 non-null   float64\n",
      " 10  smoking_status     5110 non-null   object \n",
      " 11  stroke             5110 non-null   int64  \n",
      "dtypes: float64(3), int64(4), object(5)\n",
      "memory usage: 479.2+ KB\n"
     ]
    }
   ],
   "source": [
    "data.info()"
   ]
  },
  {
   "cell_type": "markdown",
   "metadata": {},
   "source": [
    "# Data  Visualization"
   ]
  },
  {
   "cell_type": "code",
   "execution_count": 14,
   "metadata": {},
   "outputs": [],
   "source": [
    "import matplotlib.pyplot as plt\n",
    "%matplotlib inline\n",
    "import seaborn as sns\n",
    "sns.set()"
   ]
  },
  {
   "cell_type": "code",
   "execution_count": 15,
   "metadata": {},
   "outputs": [],
   "source": [
    "def bar_chart(feature):\n",
    "    stroke = data[data['stroke']==1][feature].value_counts()\n",
    "    #notstroke = data[data['stroke']==0][feature].value_counts()\n",
    "    df = pd.DataFrame([stroke])\n",
    "    df.index = ['stroke']\n",
    "    df.plot(kind='bar',stacked=0, figsize=(10,7))"
   ]
  },
  {
   "cell_type": "code",
   "execution_count": null,
   "metadata": {},
   "outputs": [],
   "source": []
  },
  {
   "cell_type": "code",
   "execution_count": 16,
   "metadata": {},
   "outputs": [],
   "source": [
    "datatrain = [data] \n",
    "for dataset in datatrain:\n",
    "    dataset.loc[ (dataset['age'] <=2), 'age'] = 0  #Childhood\n",
    "    dataset.loc[(dataset['age'] > 2) & (dataset['age'] <= 39), 'age'] = 1 #Young  Adults\n",
    "    dataset.loc[(dataset['age'] > 39) & (dataset['age'] <= 59), 'age'] = 2 #Middle -Aged Adults\n",
    "    dataset.loc[ dataset['age'] > 59, 'age'] = 3 #old Adults"
   ]
  },
  {
   "cell_type": "code",
   "execution_count": 17,
   "metadata": {},
   "outputs": [
    {
     "data": {
      "image/png": "[encoded data removed]",
      "text/plain": [
       "<Figure size 720x504 with 1 Axes>"
      ]
     },
     "metadata": {},
     "output_type": "display_data"
    }
   ],
   "source": [
    "bar_chart('age')"
   ]
  },
  {
   "cell_type": "code",
   "execution_count": null,
   "metadata": {},
   "outputs": [],
   "source": []
  },
  {
   "cell_type": "code",
   "execution_count": null,
   "metadata": {},
   "outputs": [],
   "source": []
  },
  {
   "cell_type": "code",
   "execution_count": 18,
   "metadata": {},
   "outputs": [],
   "source": [
    "\n",
    "for dataset in datatrain:\n",
    "    dataset.loc[ (dataset['bmi'] <= 18.5), 'bmi'] = 0\n",
    "    dataset.loc[(dataset['bmi'] > 18.5) & (dataset['bmi'] <= 24.9),'bmi'] = 1\n",
    "    dataset.loc[(dataset['bmi'] > 24.9) & (dataset['bmi'] <= 29.9),'bmi'] = 2\n",
    "    dataset.loc[ dataset['bmi'] > 29.9, 'bmi'] = 3"
   ]
  },
  {
   "cell_type": "markdown",
   "metadata": {},
   "source": [
    "# BMI\tWeight Status\n",
    "[0=Below 18.5\tUnderweight]\n",
    "[1=18.5 – 24.9\tNormal or Healthy Weight]\n",
    "[2=25.0 – 29.9\tOverweight]\n",
    "[3=30.0 and Above\tObese]"
   ]
  },
  {
   "cell_type": "code",
   "execution_count": 19,
   "metadata": {},
   "outputs": [
    {
     "data": {
      "image/png": "[encoded data removed]",
      "text/plain": [
       "<Figure size 720x504 with 1 Axes>"
      ]
     },
     "metadata": {},
     "output_type": "display_data"
    }
   ],
   "source": [
    "bar_chart('bmi')"
   ]
  },
  {
   "cell_type": "code",
   "execution_count": 20,
   "metadata": {
    "scrolled": true
   },
   "outputs": [
    {
     "data": {
      "image/png": "[encoded data removed]",
      "text/plain": [
       "<Figure size 720x504 with 1 Axes>"
      ]
     },
     "metadata": {},
     "output_type": "display_data"
    }
   ],
   "source": [
    "bar_chart('ever_married')"
   ]
  },
  {
   "cell_type": "code",
   "execution_count": 21,
   "metadata": {},
   "outputs": [
    {
     "data": {
      "image/png": "[encoded data removed]",
      "text/plain": [
       "<Figure size 720x504 with 1 Axes>"
      ]
     },
     "metadata": {},
     "output_type": "display_data"
    }
   ],
   "source": [
    "bar_chart('gender')"
   ]
  },
  {
   "cell_type": "code",
   "execution_count": 22,
   "metadata": {},
   "outputs": [
    {
     "data": {
      "image/png": "[encoded data removed]",
      "text/plain": [
       "<Figure size 720x504 with 1 Axes>"
      ]
     },
     "metadata": {},
     "output_type": "display_data"
    }
   ],
   "source": [
    "bar_chart('work_type')"
   ]
  },
  {
   "cell_type": "code",
   "execution_count": 23,
   "metadata": {
    "scrolled": true
   },
   "outputs": [
    {
     "data": {
      "image/png": "[encoded data removed]",
      "text/plain": [
       "<Figure size 720x504 with 1 Axes>"
      ]
     },
     "metadata": {},
     "output_type": "display_data"
    }
   ],
   "source": [
    "bar_chart('Residence_type')"
   ]
  },
  {
   "cell_type": "code",
   "execution_count": 24,
   "metadata": {},
   "outputs": [
    {
     "data": {
      "image/png": "[encoded data removed]",
      "text/plain": [
       "<Figure size 720x504 with 1 Axes>"
      ]
     },
     "metadata": {},
     "output_type": "display_data"
    }
   ],
   "source": [
    "bar_chart('smoking_status')"
   ]
  },
  {
   "cell_type": "code",
   "execution_count": null,
   "metadata": {},
   "outputs": [],
   "source": []
  },
  {
   "cell_type": "code",
   "execution_count": null,
   "metadata": {},
   "outputs": [],
   "source": []
  },
  {
   "cell_type": "code",
   "execution_count": null,
   "metadata": {},
   "outputs": [],
   "source": []
  },
  {
   "cell_type": "markdown",
   "metadata": {},
   "source": [
    "# Feature Engineering"
   ]
  },
  {
   "cell_type": "code",
   "execution_count": 25,
   "metadata": {},
   "outputs": [],
   "source": [
    "data.drop('id',axis=1,inplace=True)"
   ]
  },
  {
   "cell_type": "code",
   "execution_count": null,
   "metadata": {},
   "outputs": [],
   "source": []
  },
  {
   "cell_type": "code",
   "execution_count": 26,
   "metadata": {},
   "outputs": [],
   "source": [
    "#Featuring \n",
    "datatrain = [data] \n",
    "sex_mapping = {\"Male\": 0, \"Female\": 1,\"Other\": 2}\n",
    "for dataset in datatrain:\n",
    "    dataset['gender'] = dataset['gender'].map(sex_mapping)"
   ]
  },
  {
   "cell_type": "code",
   "execution_count": 27,
   "metadata": {},
   "outputs": [
    {
     "data": {
      "text/html": [
       "<div>\n",
       "<style scoped>\n",
       "    .dataframe tbody tr th:only-of-type {\n",
       "        vertical-align: middle;\n",
       "    }\n",
       "\n",
       "    .dataframe tbody tr th {\n",
       "        vertical-align: top;\n",
       "    }\n",
       "\n",
       "    .dataframe thead th {\n",
       "        text-align: right;\n",
       "    }\n",
       "</style>\n",
       "<table border=\"1\" class=\"dataframe\">\n",
       "  <thead>\n",
       "    <tr style=\"text-align: right;\">\n",
       "      <th></th>\n",
       "      <th>gender</th>\n",
       "      <th>age</th>\n",
       "      <th>hypertension</th>\n",
       "      <th>heart_disease</th>\n",
       "      <th>ever_married</th>\n",
       "      <th>work_type</th>\n",
       "      <th>Residence_type</th>\n",
       "      <th>avg_glucose_level</th>\n",
       "      <th>bmi</th>\n",
       "      <th>smoking_status</th>\n",
       "      <th>stroke</th>\n",
       "    </tr>\n",
       "  </thead>\n",
       "  <tbody>\n",
       "    <tr>\n",
       "      <th>0</th>\n",
       "      <td>0</td>\n",
       "      <td>3.0</td>\n",
       "      <td>0</td>\n",
       "      <td>1</td>\n",
       "      <td>Yes</td>\n",
       "      <td>Private</td>\n",
       "      <td>Urban</td>\n",
       "      <td>228.69</td>\n",
       "      <td>3.0</td>\n",
       "      <td>formerly smoked</td>\n",
       "      <td>1</td>\n",
       "    </tr>\n",
       "    <tr>\n",
       "      <th>1</th>\n",
       "      <td>1</td>\n",
       "      <td>3.0</td>\n",
       "      <td>0</td>\n",
       "      <td>0</td>\n",
       "      <td>Yes</td>\n",
       "      <td>Self-employed</td>\n",
       "      <td>Rural</td>\n",
       "      <td>202.21</td>\n",
       "      <td>2.0</td>\n",
       "      <td>never smoked</td>\n",
       "      <td>1</td>\n",
       "    </tr>\n",
       "    <tr>\n",
       "      <th>2</th>\n",
       "      <td>0</td>\n",
       "      <td>3.0</td>\n",
       "      <td>0</td>\n",
       "      <td>1</td>\n",
       "      <td>Yes</td>\n",
       "      <td>Private</td>\n",
       "      <td>Rural</td>\n",
       "      <td>105.92</td>\n",
       "      <td>3.0</td>\n",
       "      <td>never smoked</td>\n",
       "      <td>1</td>\n",
       "    </tr>\n",
       "    <tr>\n",
       "      <th>3</th>\n",
       "      <td>1</td>\n",
       "      <td>2.0</td>\n",
       "      <td>0</td>\n",
       "      <td>0</td>\n",
       "      <td>Yes</td>\n",
       "      <td>Private</td>\n",
       "      <td>Urban</td>\n",
       "      <td>171.23</td>\n",
       "      <td>3.0</td>\n",
       "      <td>smokes</td>\n",
       "      <td>1</td>\n",
       "    </tr>\n",
       "    <tr>\n",
       "      <th>4</th>\n",
       "      <td>1</td>\n",
       "      <td>3.0</td>\n",
       "      <td>1</td>\n",
       "      <td>0</td>\n",
       "      <td>Yes</td>\n",
       "      <td>Self-employed</td>\n",
       "      <td>Rural</td>\n",
       "      <td>174.12</td>\n",
       "      <td>1.0</td>\n",
       "      <td>never smoked</td>\n",
       "      <td>1</td>\n",
       "    </tr>\n",
       "    <tr>\n",
       "      <th>...</th>\n",
       "      <td>...</td>\n",
       "      <td>...</td>\n",
       "      <td>...</td>\n",
       "      <td>...</td>\n",
       "      <td>...</td>\n",
       "      <td>...</td>\n",
       "      <td>...</td>\n",
       "      <td>...</td>\n",
       "      <td>...</td>\n",
       "      <td>...</td>\n",
       "      <td>...</td>\n",
       "    </tr>\n",
       "    <tr>\n",
       "      <th>5105</th>\n",
       "      <td>1</td>\n",
       "      <td>3.0</td>\n",
       "      <td>1</td>\n",
       "      <td>0</td>\n",
       "      <td>Yes</td>\n",
       "      <td>Private</td>\n",
       "      <td>Urban</td>\n",
       "      <td>83.75</td>\n",
       "      <td>2.0</td>\n",
       "      <td>never smoked</td>\n",
       "      <td>0</td>\n",
       "    </tr>\n",
       "    <tr>\n",
       "      <th>5106</th>\n",
       "      <td>1</td>\n",
       "      <td>3.0</td>\n",
       "      <td>0</td>\n",
       "      <td>0</td>\n",
       "      <td>Yes</td>\n",
       "      <td>Self-employed</td>\n",
       "      <td>Urban</td>\n",
       "      <td>125.20</td>\n",
       "      <td>3.0</td>\n",
       "      <td>never smoked</td>\n",
       "      <td>0</td>\n",
       "    </tr>\n",
       "    <tr>\n",
       "      <th>5107</th>\n",
       "      <td>1</td>\n",
       "      <td>1.0</td>\n",
       "      <td>0</td>\n",
       "      <td>0</td>\n",
       "      <td>Yes</td>\n",
       "      <td>Self-employed</td>\n",
       "      <td>Rural</td>\n",
       "      <td>82.99</td>\n",
       "      <td>3.0</td>\n",
       "      <td>never smoked</td>\n",
       "      <td>0</td>\n",
       "    </tr>\n",
       "    <tr>\n",
       "      <th>5108</th>\n",
       "      <td>0</td>\n",
       "      <td>2.0</td>\n",
       "      <td>0</td>\n",
       "      <td>0</td>\n",
       "      <td>Yes</td>\n",
       "      <td>Private</td>\n",
       "      <td>Rural</td>\n",
       "      <td>166.29</td>\n",
       "      <td>2.0</td>\n",
       "      <td>formerly smoked</td>\n",
       "      <td>0</td>\n",
       "    </tr>\n",
       "    <tr>\n",
       "      <th>5109</th>\n",
       "      <td>1</td>\n",
       "      <td>2.0</td>\n",
       "      <td>0</td>\n",
       "      <td>0</td>\n",
       "      <td>Yes</td>\n",
       "      <td>Govt_job</td>\n",
       "      <td>Urban</td>\n",
       "      <td>85.28</td>\n",
       "      <td>2.0</td>\n",
       "      <td>Unknown</td>\n",
       "      <td>0</td>\n",
       "    </tr>\n",
       "  </tbody>\n",
       "</table>\n",
       "<p>5110 rows × 11 columns</p>\n",
       "</div>"
      ],
      "text/plain": [
       "      gender  age  hypertension  heart_disease ever_married      work_type  \\\n",
       "0          0  3.0             0              1          Yes        Private   \n",
       "1          1  3.0             0              0          Yes  Self-employed   \n",
       "2          0  3.0             0              1          Yes        Private   \n",
       "3          1  2.0             0              0          Yes        Private   \n",
       "4          1  3.0             1              0          Yes  Self-employed   \n",
       "...      ...  ...           ...            ...          ...            ...   \n",
       "5105       1  3.0             1              0          Yes        Private   \n",
       "5106       1  3.0             0              0          Yes  Self-employed   \n",
       "5107       1  1.0             0              0          Yes  Self-employed   \n",
       "5108       0  2.0             0              0          Yes        Private   \n",
       "5109       1  2.0             0              0          Yes       Govt_job   \n",
       "\n",
       "     Residence_type  avg_glucose_level  bmi   smoking_status  stroke  \n",
       "0             Urban             228.69  3.0  formerly smoked       1  \n",
       "1             Rural             202.21  2.0     never smoked       1  \n",
       "2             Rural             105.92  3.0     never smoked       1  \n",
       "3             Urban             171.23  3.0           smokes       1  \n",
       "4             Rural             174.12  1.0     never smoked       1  \n",
       "...             ...                ...  ...              ...     ...  \n",
       "5105          Urban              83.75  2.0     never smoked       0  \n",
       "5106          Urban             125.20  3.0     never smoked       0  \n",
       "5107          Rural              82.99  3.0     never smoked       0  \n",
       "5108          Rural             166.29  2.0  formerly smoked       0  \n",
       "5109          Urban              85.28  2.0          Unknown       0  \n",
       "\n",
       "[5110 rows x 11 columns]"
      ]
     },
     "execution_count": 27,
     "metadata": {},
     "output_type": "execute_result"
    }
   ],
   "source": [
    "data"
   ]
  },
  {
   "cell_type": "code",
   "execution_count": 28,
   "metadata": {},
   "outputs": [],
   "source": [
    "marriage_mapping = {\"No\": 0, \"Yes\": 1}\n",
    "for dataset in datatrain:\n",
    "    dataset['ever_married'] = dataset['ever_married'].map(marriage_mapping)"
   ]
  },
  {
   "cell_type": "code",
   "execution_count": 29,
   "metadata": {},
   "outputs": [],
   "source": [
    "#max(data['age'])"
   ]
  },
  {
   "cell_type": "code",
   "execution_count": null,
   "metadata": {},
   "outputs": [],
   "source": []
  },
  {
   "cell_type": "code",
   "execution_count": 31,
   "metadata": {},
   "outputs": [],
   "source": [
    "#max(data['age'])\n",
    "#data['age']"
   ]
  },
  {
   "cell_type": "code",
   "execution_count": null,
   "metadata": {},
   "outputs": [],
   "source": []
  },
  {
   "cell_type": "code",
   "execution_count": 32,
   "metadata": {},
   "outputs": [
    {
     "data": {
      "text/plain": [
       "['Private', 'Govt_job', 'Self-employed', 'children', 'Never_worked']"
      ]
     },
     "execution_count": 32,
     "metadata": {},
     "output_type": "execute_result"
    }
   ],
   "source": [
    "worktype=list(set(data[\"work_type\"]))\n",
    "worktype"
   ]
  },
  {
   "cell_type": "code",
   "execution_count": 33,
   "metadata": {},
   "outputs": [],
   "source": [
    "work_mapping = {'Private':0, 'Self-employed':1, 'Govt_job':2, 'Never_worked':3, 'children':4}\n",
    "for dataset in datatrain:\n",
    "    dataset['work_type'] = dataset['work_type'].map(work_mapping)"
   ]
  },
  {
   "cell_type": "code",
   "execution_count": 34,
   "metadata": {},
   "outputs": [],
   "source": [
    "residence_mapping = {\"Urban\": 0, \"Rural\": 1}\n",
    "for dataset in datatrain:\n",
    "    dataset['Residence_type'] = dataset['Residence_type'].map(residence_mapping)"
   ]
  },
  {
   "cell_type": "code",
   "execution_count": 35,
   "metadata": {},
   "outputs": [],
   "source": [
    "smoking_mapping = {'Unknown':3, 'never smoked':0, 'smokes':1, 'formerly smoked':2}\n",
    "for dataset in datatrain:\n",
    "    dataset['smoking_status'] = dataset['smoking_status'].map(smoking_mapping)"
   ]
  },
  {
   "cell_type": "code",
   "execution_count": 36,
   "metadata": {},
   "outputs": [],
   "source": [
    "#smoking=list(set(data[\"smoking_status\"]))\n",
    "#smoking"
   ]
  },
  {
   "cell_type": "code",
   "execution_count": 37,
   "metadata": {},
   "outputs": [
    {
     "data": {
      "text/html": [
       "<div>\n",
       "<style scoped>\n",
       "    .dataframe tbody tr th:only-of-type {\n",
       "        vertical-align: middle;\n",
       "    }\n",
       "\n",
       "    .dataframe tbody tr th {\n",
       "        vertical-align: top;\n",
       "    }\n",
       "\n",
       "    .dataframe thead th {\n",
       "        text-align: right;\n",
       "    }\n",
       "</style>\n",
       "<table border=\"1\" class=\"dataframe\">\n",
       "  <thead>\n",
       "    <tr style=\"text-align: right;\">\n",
       "      <th></th>\n",
       "      <th>gender</th>\n",
       "      <th>age</th>\n",
       "      <th>hypertension</th>\n",
       "      <th>heart_disease</th>\n",
       "      <th>ever_married</th>\n",
       "      <th>work_type</th>\n",
       "      <th>Residence_type</th>\n",
       "      <th>avg_glucose_level</th>\n",
       "      <th>bmi</th>\n",
       "      <th>smoking_status</th>\n",
       "      <th>stroke</th>\n",
       "    </tr>\n",
       "  </thead>\n",
       "  <tbody>\n",
       "    <tr>\n",
       "      <th>0</th>\n",
       "      <td>0</td>\n",
       "      <td>3.0</td>\n",
       "      <td>0</td>\n",
       "      <td>1</td>\n",
       "      <td>1</td>\n",
       "      <td>0</td>\n",
       "      <td>0</td>\n",
       "      <td>228.69</td>\n",
       "      <td>3.0</td>\n",
       "      <td>2</td>\n",
       "      <td>1</td>\n",
       "    </tr>\n",
       "    <tr>\n",
       "      <th>1</th>\n",
       "      <td>1</td>\n",
       "      <td>3.0</td>\n",
       "      <td>0</td>\n",
       "      <td>0</td>\n",
       "      <td>1</td>\n",
       "      <td>1</td>\n",
       "      <td>1</td>\n",
       "      <td>202.21</td>\n",
       "      <td>2.0</td>\n",
       "      <td>0</td>\n",
       "      <td>1</td>\n",
       "    </tr>\n",
       "    <tr>\n",
       "      <th>2</th>\n",
       "      <td>0</td>\n",
       "      <td>3.0</td>\n",
       "      <td>0</td>\n",
       "      <td>1</td>\n",
       "      <td>1</td>\n",
       "      <td>0</td>\n",
       "      <td>1</td>\n",
       "      <td>105.92</td>\n",
       "      <td>3.0</td>\n",
       "      <td>0</td>\n",
       "      <td>1</td>\n",
       "    </tr>\n",
       "    <tr>\n",
       "      <th>3</th>\n",
       "      <td>1</td>\n",
       "      <td>2.0</td>\n",
       "      <td>0</td>\n",
       "      <td>0</td>\n",
       "      <td>1</td>\n",
       "      <td>0</td>\n",
       "      <td>0</td>\n",
       "      <td>171.23</td>\n",
       "      <td>3.0</td>\n",
       "      <td>1</td>\n",
       "      <td>1</td>\n",
       "    </tr>\n",
       "    <tr>\n",
       "      <th>4</th>\n",
       "      <td>1</td>\n",
       "      <td>3.0</td>\n",
       "      <td>1</td>\n",
       "      <td>0</td>\n",
       "      <td>1</td>\n",
       "      <td>1</td>\n",
       "      <td>1</td>\n",
       "      <td>174.12</td>\n",
       "      <td>1.0</td>\n",
       "      <td>0</td>\n",
       "      <td>1</td>\n",
       "    </tr>\n",
       "    <tr>\n",
       "      <th>...</th>\n",
       "      <td>...</td>\n",
       "      <td>...</td>\n",
       "      <td>...</td>\n",
       "      <td>...</td>\n",
       "      <td>...</td>\n",
       "      <td>...</td>\n",
       "      <td>...</td>\n",
       "      <td>...</td>\n",
       "      <td>...</td>\n",
       "      <td>...</td>\n",
       "      <td>...</td>\n",
       "    </tr>\n",
       "    <tr>\n",
       "      <th>5105</th>\n",
       "      <td>1</td>\n",
       "      <td>3.0</td>\n",
       "      <td>1</td>\n",
       "      <td>0</td>\n",
       "      <td>1</td>\n",
       "      <td>0</td>\n",
       "      <td>0</td>\n",
       "      <td>83.75</td>\n",
       "      <td>2.0</td>\n",
       "      <td>0</td>\n",
       "      <td>0</td>\n",
       "    </tr>\n",
       "    <tr>\n",
       "      <th>5106</th>\n",
       "      <td>1</td>\n",
       "      <td>3.0</td>\n",
       "      <td>0</td>\n",
       "      <td>0</td>\n",
       "      <td>1</td>\n",
       "      <td>1</td>\n",
       "      <td>0</td>\n",
       "      <td>125.20</td>\n",
       "      <td>3.0</td>\n",
       "      <td>0</td>\n",
       "      <td>0</td>\n",
       "    </tr>\n",
       "    <tr>\n",
       "      <th>5107</th>\n",
       "      <td>1</td>\n",
       "      <td>1.0</td>\n",
       "      <td>0</td>\n",
       "      <td>0</td>\n",
       "      <td>1</td>\n",
       "      <td>1</td>\n",
       "      <td>1</td>\n",
       "      <td>82.99</td>\n",
       "      <td>3.0</td>\n",
       "      <td>0</td>\n",
       "      <td>0</td>\n",
       "    </tr>\n",
       "    <tr>\n",
       "      <th>5108</th>\n",
       "      <td>0</td>\n",
       "      <td>2.0</td>\n",
       "      <td>0</td>\n",
       "      <td>0</td>\n",
       "      <td>1</td>\n",
       "      <td>0</td>\n",
       "      <td>1</td>\n",
       "      <td>166.29</td>\n",
       "      <td>2.0</td>\n",
       "      <td>2</td>\n",
       "      <td>0</td>\n",
       "    </tr>\n",
       "    <tr>\n",
       "      <th>5109</th>\n",
       "      <td>1</td>\n",
       "      <td>2.0</td>\n",
       "      <td>0</td>\n",
       "      <td>0</td>\n",
       "      <td>1</td>\n",
       "      <td>2</td>\n",
       "      <td>0</td>\n",
       "      <td>85.28</td>\n",
       "      <td>2.0</td>\n",
       "      <td>3</td>\n",
       "      <td>0</td>\n",
       "    </tr>\n",
       "  </tbody>\n",
       "</table>\n",
       "<p>5110 rows × 11 columns</p>\n",
       "</div>"
      ],
      "text/plain": [
       "      gender  age  hypertension  heart_disease  ever_married  work_type  \\\n",
       "0          0  3.0             0              1             1          0   \n",
       "1          1  3.0             0              0             1          1   \n",
       "2          0  3.0             0              1             1          0   \n",
       "3          1  2.0             0              0             1          0   \n",
       "4          1  3.0             1              0             1          1   \n",
       "...      ...  ...           ...            ...           ...        ...   \n",
       "5105       1  3.0             1              0             1          0   \n",
       "5106       1  3.0             0              0             1          1   \n",
       "5107       1  1.0             0              0             1          1   \n",
       "5108       0  2.0             0              0             1          0   \n",
       "5109       1  2.0             0              0             1          2   \n",
       "\n",
       "      Residence_type  avg_glucose_level  bmi  smoking_status  stroke  \n",
       "0                  0             228.69  3.0               2       1  \n",
       "1                  1             202.21  2.0               0       1  \n",
       "2                  1             105.92  3.0               0       1  \n",
       "3                  0             171.23  3.0               1       1  \n",
       "4                  1             174.12  1.0               0       1  \n",
       "...              ...                ...  ...             ...     ...  \n",
       "5105               0              83.75  2.0               0       0  \n",
       "5106               0             125.20  3.0               0       0  \n",
       "5107               1              82.99  3.0               0       0  \n",
       "5108               1             166.29  2.0               2       0  \n",
       "5109               0              85.28  2.0               3       0  \n",
       "\n",
       "[5110 rows x 11 columns]"
      ]
     },
     "execution_count": 37,
     "metadata": {},
     "output_type": "execute_result"
    }
   ],
   "source": [
    "data"
   ]
  },
  {
   "cell_type": "code",
   "execution_count": null,
   "metadata": {},
   "outputs": [],
   "source": []
  },
  {
   "cell_type": "markdown",
   "metadata": {},
   "source": [
    "# Splitng Data for Training"
   ]
  },
  {
   "cell_type": "code",
   "execution_count": 38,
   "metadata": {},
   "outputs": [],
   "source": [
    "from sklearn.model_selection import train_test_split"
   ]
  },
  {
   "cell_type": "code",
   "execution_count": 39,
   "metadata": {},
   "outputs": [],
   "source": [
    "x =data.drop(['stroke'],axis=1)"
   ]
  },
  {
   "cell_type": "code",
   "execution_count": 40,
   "metadata": {},
   "outputs": [],
   "source": [
    "y=data['stroke']"
   ]
  },
  {
   "cell_type": "code",
   "execution_count": 41,
   "metadata": {},
   "outputs": [],
   "source": [
    "xtrain,xtest,ytrain,ytest=train_test_split(x,y,test_size=.25,random_state=100)"
   ]
  },
  {
   "cell_type": "code",
   "execution_count": null,
   "metadata": {},
   "outputs": [],
   "source": []
  },
  {
   "cell_type": "markdown",
   "metadata": {},
   "source": [
    "# Support Vector Machine"
   ]
  },
  {
   "cell_type": "code",
   "execution_count": 42,
   "metadata": {},
   "outputs": [],
   "source": [
    "from sklearn.svm import SVC"
   ]
  },
  {
   "cell_type": "code",
   "execution_count": 43,
   "metadata": {},
   "outputs": [],
   "source": [
    "model=SVC()"
   ]
  },
  {
   "cell_type": "code",
   "execution_count": 44,
   "metadata": {},
   "outputs": [
    {
     "data": {
      "text/plain": [
       "SVC()"
      ]
     },
     "execution_count": 44,
     "metadata": {},
     "output_type": "execute_result"
    }
   ],
   "source": [
    "model.fit(xtrain,ytrain)"
   ]
  },
  {
   "cell_type": "code",
   "execution_count": 45,
   "metadata": {},
   "outputs": [
    {
     "data": {
      "text/plain": [
       "array([0, 0, 0, ..., 0, 0, 0], dtype=int64)"
      ]
     },
     "execution_count": 45,
     "metadata": {},
     "output_type": "execute_result"
    }
   ],
   "source": [
    "pred=model.predict(xtest)\n",
    "pred"
   ]
  },
  {
   "cell_type": "code",
   "execution_count": 46,
   "metadata": {},
   "outputs": [
    {
     "name": "stdout",
     "output_type": "stream",
     "text": [
      "              precision    recall  f1-score   support\n",
      "\n",
      "           0       0.96      1.00      0.98      1222\n",
      "           1       0.00      0.00      0.00        56\n",
      "\n",
      "    accuracy                           0.96      1278\n",
      "   macro avg       0.48      0.50      0.49      1278\n",
      "weighted avg       0.91      0.96      0.93      1278\n",
      "\n"
     ]
    },
    {
     "name": "stderr",
     "output_type": "stream",
     "text": [
      "C:\\Users\\Polash\\AppData\\Roaming\\Python\\Python38\\site-packages\\sklearn\\metrics\\_classification.py:1245: UndefinedMetricWarning: Precision and F-score are ill-defined and being set to 0.0 in labels with no predicted samples. Use `zero_division` parameter to control this behavior.\n",
      "  _warn_prf(average, modifier, msg_start, len(result))\n",
      "C:\\Users\\Polash\\AppData\\Roaming\\Python\\Python38\\site-packages\\sklearn\\metrics\\_classification.py:1245: UndefinedMetricWarning: Precision and F-score are ill-defined and being set to 0.0 in labels with no predicted samples. Use `zero_division` parameter to control this behavior.\n",
      "  _warn_prf(average, modifier, msg_start, len(result))\n",
      "C:\\Users\\Polash\\AppData\\Roaming\\Python\\Python38\\site-packages\\sklearn\\metrics\\_classification.py:1245: UndefinedMetricWarning: Precision and F-score are ill-defined and being set to 0.0 in labels with no predicted samples. Use `zero_division` parameter to control this behavior.\n",
      "  _warn_prf(average, modifier, msg_start, len(result))\n"
     ]
    }
   ],
   "source": [
    "from sklearn.metrics import classification_report\n",
    "print(classification_report(ytest,pred))"
   ]
  },
  {
   "cell_type": "code",
   "execution_count": 47,
   "metadata": {},
   "outputs": [
    {
     "data": {
      "text/plain": [
       "0.9561815336463224"
      ]
     },
     "execution_count": 47,
     "metadata": {},
     "output_type": "execute_result"
    }
   ],
   "source": [
    "from sklearn.metrics import accuracy_score\n",
    "accuracy_score(ytest,pred)"
   ]
  },
  {
   "cell_type": "code",
   "execution_count": 48,
   "metadata": {},
   "outputs": [
    {
     "name": "stdout",
     "output_type": "stream",
     "text": [
      "[[1222    0]\n",
      " [  56    0]]\n"
     ]
    }
   ],
   "source": [
    "from sklearn.metrics import confusion_matrix\n",
    "print(confusion_matrix(ytest,pred))"
   ]
  },
  {
   "cell_type": "code",
   "execution_count": 49,
   "metadata": {},
   "outputs": [
    {
     "data": {
      "text/plain": [
       "0.9561815336463224"
      ]
     },
     "execution_count": 49,
     "metadata": {},
     "output_type": "execute_result"
    }
   ],
   "source": [
    "model.score(xtest,ytest)"
   ]
  },
  {
   "cell_type": "code",
   "execution_count": null,
   "metadata": {},
   "outputs": [],
   "source": []
  },
  {
   "cell_type": "code",
   "execution_count": 50,
   "metadata": {},
   "outputs": [
    {
     "data": {
      "text/plain": [
       "0.9347630672926449"
      ]
     },
     "execution_count": 50,
     "metadata": {},
     "output_type": "execute_result"
    }
   ],
   "source": [
    "from sklearn.metrics import f1_score\n",
    "f1_score(ytest,pred,average='weighted')"
   ]
  },
  {
   "cell_type": "code",
   "execution_count": null,
   "metadata": {},
   "outputs": [],
   "source": []
  },
  {
   "cell_type": "code",
   "execution_count": null,
   "metadata": {},
   "outputs": [],
   "source": []
  },
  {
   "cell_type": "code",
   "execution_count": 51,
   "metadata": {},
   "outputs": [
    {
     "data": {
      "text/plain": [
       "0.952054794520548"
      ]
     },
     "execution_count": 51,
     "metadata": {},
     "output_type": "execute_result"
    }
   ],
   "source": [
    "#60% data\n",
    "atrain,atest,btrain,btest=train_test_split(x,y,test_size=.60,random_state=1)\n",
    "model.score(atest,btest)"
   ]
  },
  {
   "cell_type": "code",
   "execution_count": 52,
   "metadata": {},
   "outputs": [
    {
     "data": {
      "text/plain": [
       "0.9512720156555773"
      ]
     },
     "execution_count": 52,
     "metadata": {},
     "output_type": "execute_result"
    }
   ],
   "source": [
    "#total data\n",
    "model.score(x,y)"
   ]
  },
  {
   "cell_type": "code",
   "execution_count": null,
   "metadata": {},
   "outputs": [],
   "source": []
  },
  {
   "cell_type": "code",
   "execution_count": null,
   "metadata": {},
   "outputs": [],
   "source": []
  },
  {
   "cell_type": "code",
   "execution_count": null,
   "metadata": {},
   "outputs": [],
   "source": []
  },
  {
   "cell_type": "markdown",
   "metadata": {},
   "source": [
    "# RandomForestClassifier"
   ]
  },
  {
   "cell_type": "code",
   "execution_count": 53,
   "metadata": {},
   "outputs": [
    {
     "data": {
      "text/plain": [
       "RandomForestClassifier()"
      ]
     },
     "execution_count": 53,
     "metadata": {},
     "output_type": "execute_result"
    }
   ],
   "source": [
    "#Random forest\n",
    "from sklearn.ensemble import RandomForestClassifier\n",
    "rfc= RandomForestClassifier()\n",
    "rfc.fit(xtrain,ytrain)"
   ]
  },
  {
   "cell_type": "code",
   "execution_count": 54,
   "metadata": {},
   "outputs": [
    {
     "data": {
      "text/plain": [
       "array([0, 0, 0, ..., 0, 0, 0], dtype=int64)"
      ]
     },
     "execution_count": 54,
     "metadata": {},
     "output_type": "execute_result"
    }
   ],
   "source": [
    "predrfc=rfc.predict(xtest)\n",
    "predrfc"
   ]
  },
  {
   "cell_type": "code",
   "execution_count": 55,
   "metadata": {},
   "outputs": [
    {
     "name": "stdout",
     "output_type": "stream",
     "text": [
      "              precision    recall  f1-score   support\n",
      "\n",
      "           0       0.96      0.99      0.97      1222\n",
      "           1       0.16      0.05      0.08        56\n",
      "\n",
      "    accuracy                           0.95      1278\n",
      "   macro avg       0.56      0.52      0.53      1278\n",
      "weighted avg       0.92      0.95      0.93      1278\n",
      "\n"
     ]
    }
   ],
   "source": [
    "from sklearn.metrics import classification_report\n",
    "print(classification_report(ytest,predrfc))"
   ]
  },
  {
   "cell_type": "code",
   "execution_count": 56,
   "metadata": {},
   "outputs": [
    {
     "name": "stdout",
     "output_type": "stream",
     "text": [
      "[[1206   16]\n",
      " [  53    3]]\n"
     ]
    }
   ],
   "source": [
    "from sklearn.metrics import confusion_matrix\n",
    "print(confusion_matrix(ytest,predrfc))"
   ]
  },
  {
   "cell_type": "code",
   "execution_count": 57,
   "metadata": {},
   "outputs": [
    {
     "data": {
      "text/plain": [
       "0.9460093896713615"
      ]
     },
     "execution_count": 57,
     "metadata": {},
     "output_type": "execute_result"
    }
   ],
   "source": [
    "from sklearn.metrics import accuracy_score\n",
    "accuracy_score(ytest,predrfc)"
   ]
  },
  {
   "cell_type": "code",
   "execution_count": null,
   "metadata": {},
   "outputs": [],
   "source": []
  },
  {
   "cell_type": "code",
   "execution_count": 58,
   "metadata": {},
   "outputs": [
    {
     "data": {
      "text/plain": [
       "0.9460093896713615"
      ]
     },
     "execution_count": 58,
     "metadata": {},
     "output_type": "execute_result"
    }
   ],
   "source": [
    "rfc.score(xtest,ytest)"
   ]
  },
  {
   "cell_type": "code",
   "execution_count": 59,
   "metadata": {},
   "outputs": [
    {
     "data": {
      "text/plain": [
       "0.9895629484670581"
      ]
     },
     "execution_count": 59,
     "metadata": {},
     "output_type": "execute_result"
    }
   ],
   "source": [
    "#60% test data\n",
    "rfc.score(atest,btest)"
   ]
  },
  {
   "cell_type": "code",
   "execution_count": 60,
   "metadata": {},
   "outputs": [
    {
     "data": {
      "text/plain": [
       "0.9864970645792563"
      ]
     },
     "execution_count": 60,
     "metadata": {},
     "output_type": "execute_result"
    }
   ],
   "source": [
    "#total data\n",
    "rfc.score(x,y)"
   ]
  },
  {
   "cell_type": "code",
   "execution_count": null,
   "metadata": {},
   "outputs": [],
   "source": []
  },
  {
   "cell_type": "code",
   "execution_count": null,
   "metadata": {},
   "outputs": [],
   "source": []
  },
  {
   "cell_type": "code",
   "execution_count": null,
   "metadata": {},
   "outputs": [],
   "source": []
  },
  {
   "cell_type": "markdown",
   "metadata": {},
   "source": [
    "# Decision Tree Classifier"
   ]
  },
  {
   "cell_type": "code",
   "execution_count": 61,
   "metadata": {},
   "outputs": [
    {
     "data": {
      "text/plain": [
       "DecisionTreeClassifier()"
      ]
     },
     "execution_count": 61,
     "metadata": {},
     "output_type": "execute_result"
    }
   ],
   "source": [
    "#DTC\n",
    "from sklearn.tree import DecisionTreeClassifier\n",
    "dtc=DecisionTreeClassifier()\n",
    "dtc.fit(xtrain,ytrain)"
   ]
  },
  {
   "cell_type": "code",
   "execution_count": 62,
   "metadata": {},
   "outputs": [
    {
     "data": {
      "text/plain": [
       "array([0, 0, 0, ..., 0, 0, 0], dtype=int64)"
      ]
     },
     "execution_count": 62,
     "metadata": {},
     "output_type": "execute_result"
    }
   ],
   "source": [
    "preddtc=dtc.predict(xtest)\n",
    "preddtc"
   ]
  },
  {
   "cell_type": "code",
   "execution_count": 63,
   "metadata": {},
   "outputs": [
    {
     "name": "stdout",
     "output_type": "stream",
     "text": [
      "              precision    recall  f1-score   support\n",
      "\n",
      "           0       0.96      0.94      0.95      1222\n",
      "           1       0.12      0.18      0.14        56\n",
      "\n",
      "    accuracy                           0.91      1278\n",
      "   macro avg       0.54      0.56      0.55      1278\n",
      "weighted avg       0.92      0.91      0.91      1278\n",
      "\n"
     ]
    }
   ],
   "source": [
    "from sklearn.metrics import classification_report\n",
    "print(classification_report(ytest,preddtc))"
   ]
  },
  {
   "cell_type": "code",
   "execution_count": 64,
   "metadata": {},
   "outputs": [
    {
     "data": {
      "text/plain": [
       "array([[1148,   74],\n",
       "       [  46,   10]], dtype=int64)"
      ]
     },
     "execution_count": 64,
     "metadata": {},
     "output_type": "execute_result"
    }
   ],
   "source": [
    "from sklearn.metrics import confusion_matrix\n",
    "confusion_matrix(ytest,preddtc)"
   ]
  },
  {
   "cell_type": "code",
   "execution_count": 65,
   "metadata": {},
   "outputs": [
    {
     "data": {
      "text/plain": [
       "0.9061032863849765"
      ]
     },
     "execution_count": 65,
     "metadata": {},
     "output_type": "execute_result"
    }
   ],
   "source": [
    "from sklearn.metrics import accuracy_score\n",
    "accuracy_score(ytest,preddtc)"
   ]
  },
  {
   "cell_type": "code",
   "execution_count": null,
   "metadata": {},
   "outputs": [],
   "source": []
  },
  {
   "cell_type": "code",
   "execution_count": 66,
   "metadata": {},
   "outputs": [
    {
     "data": {
      "text/plain": [
       "0.9061032863849765"
      ]
     },
     "execution_count": 66,
     "metadata": {},
     "output_type": "execute_result"
    }
   ],
   "source": [
    "dtc.score(xtest,ytest)"
   ]
  },
  {
   "cell_type": "code",
   "execution_count": 67,
   "metadata": {},
   "outputs": [
    {
     "data": {
      "text/plain": [
       "0.9794520547945206"
      ]
     },
     "execution_count": 67,
     "metadata": {},
     "output_type": "execute_result"
    }
   ],
   "source": [
    "#60% test data\n",
    "dtc.score(atest,btest)"
   ]
  },
  {
   "cell_type": "code",
   "execution_count": 68,
   "metadata": {},
   "outputs": [
    {
     "data": {
      "text/plain": [
       "0.9765166340508806"
      ]
     },
     "execution_count": 68,
     "metadata": {},
     "output_type": "execute_result"
    }
   ],
   "source": [
    "#total data\n",
    "dtc.score(x,y)"
   ]
  },
  {
   "cell_type": "code",
   "execution_count": null,
   "metadata": {},
   "outputs": [],
   "source": []
  },
  {
   "cell_type": "code",
   "execution_count": null,
   "metadata": {},
   "outputs": [],
   "source": []
  },
  {
   "cell_type": "code",
   "execution_count": null,
   "metadata": {},
   "outputs": [],
   "source": []
  },
  {
   "cell_type": "markdown",
   "metadata": {},
   "source": [
    "# Gaussian Naive Bayes (GaussianNB)"
   ]
  },
  {
   "cell_type": "code",
   "execution_count": 69,
   "metadata": {},
   "outputs": [
    {
     "data": {
      "text/plain": [
       "GaussianNB()"
      ]
     },
     "execution_count": 69,
     "metadata": {},
     "output_type": "execute_result"
    }
   ],
   "source": [
    "from sklearn.naive_bayes import GaussianNB\n",
    "gnb = GaussianNB()\n",
    "gnb.fit(xtrain,ytrain)"
   ]
  },
  {
   "cell_type": "code",
   "execution_count": 70,
   "metadata": {},
   "outputs": [
    {
     "data": {
      "text/plain": [
       "array([1, 1, 0, ..., 0, 0, 0], dtype=int64)"
      ]
     },
     "execution_count": 70,
     "metadata": {},
     "output_type": "execute_result"
    }
   ],
   "source": [
    "predgnb=gnb.predict(xtest)\n",
    "predgnb"
   ]
  },
  {
   "cell_type": "code",
   "execution_count": 71,
   "metadata": {},
   "outputs": [
    {
     "name": "stdout",
     "output_type": "stream",
     "text": [
      "              precision    recall  f1-score   support\n",
      "\n",
      "           0       0.98      0.87      0.92      1222\n",
      "           1       0.17      0.57      0.26        56\n",
      "\n",
      "    accuracy                           0.86      1278\n",
      "   macro avg       0.57      0.72      0.59      1278\n",
      "weighted avg       0.94      0.86      0.89      1278\n",
      "\n"
     ]
    }
   ],
   "source": [
    "from sklearn.metrics import classification_report\n",
    "print(classification_report(ytest,predgnb))"
   ]
  },
  {
   "cell_type": "code",
   "execution_count": 72,
   "metadata": {},
   "outputs": [
    {
     "name": "stdout",
     "output_type": "stream",
     "text": [
      "[[1062  160]\n",
      " [  24   32]]\n"
     ]
    }
   ],
   "source": [
    "from sklearn.metrics import confusion_matrix\n",
    "print(confusion_matrix(ytest,predgnb))"
   ]
  },
  {
   "cell_type": "code",
   "execution_count": 73,
   "metadata": {},
   "outputs": [
    {
     "data": {
      "text/plain": [
       "0.8560250391236307"
      ]
     },
     "execution_count": 73,
     "metadata": {},
     "output_type": "execute_result"
    }
   ],
   "source": [
    "from sklearn.metrics import accuracy_score\n",
    "accuracy_score(ytest,predgnb)"
   ]
  },
  {
   "cell_type": "code",
   "execution_count": null,
   "metadata": {},
   "outputs": [],
   "source": []
  },
  {
   "cell_type": "code",
   "execution_count": 74,
   "metadata": {},
   "outputs": [
    {
     "data": {
      "text/plain": [
       "0.8560250391236307"
      ]
     },
     "execution_count": 74,
     "metadata": {},
     "output_type": "execute_result"
    }
   ],
   "source": [
    "gnb.score(xtest,ytest)\n"
   ]
  },
  {
   "cell_type": "code",
   "execution_count": null,
   "metadata": {},
   "outputs": [],
   "source": []
  },
  {
   "cell_type": "code",
   "execution_count": null,
   "metadata": {},
   "outputs": [],
   "source": []
  },
  {
   "cell_type": "code",
   "execution_count": null,
   "metadata": {},
   "outputs": [],
   "source": []
  },
  {
   "cell_type": "code",
   "execution_count": null,
   "metadata": {},
   "outputs": [],
   "source": []
  },
  {
   "cell_type": "markdown",
   "metadata": {},
   "source": [
    "# K-Nearest Kneighbors"
   ]
  },
  {
   "cell_type": "code",
   "execution_count": 75,
   "metadata": {},
   "outputs": [],
   "source": [
    "from sklearn.neighbors import KNeighborsClassifier\n",
    "KNNC=KNeighborsClassifier(n_neighbors=61)"
   ]
  },
  {
   "cell_type": "code",
   "execution_count": 76,
   "metadata": {},
   "outputs": [
    {
     "data": {
      "text/plain": [
       "KNeighborsClassifier(n_neighbors=61)"
      ]
     },
     "execution_count": 76,
     "metadata": {},
     "output_type": "execute_result"
    }
   ],
   "source": [
    "KNNC.fit(xtrain,ytrain)"
   ]
  },
  {
   "cell_type": "code",
   "execution_count": 77,
   "metadata": {},
   "outputs": [
    {
     "data": {
      "text/plain": [
       "array([0, 0, 0, ..., 0, 0, 0], dtype=int64)"
      ]
     },
     "execution_count": 77,
     "metadata": {},
     "output_type": "execute_result"
    }
   ],
   "source": [
    "predknnc=KNNC.predict(xtest)\n",
    "predknnc"
   ]
  },
  {
   "cell_type": "code",
   "execution_count": 78,
   "metadata": {},
   "outputs": [
    {
     "name": "stdout",
     "output_type": "stream",
     "text": [
      "              precision    recall  f1-score   support\n",
      "\n",
      "           0       0.96      1.00      0.98      1222\n",
      "           1       0.00      0.00      0.00        56\n",
      "\n",
      "    accuracy                           0.96      1278\n",
      "   macro avg       0.48      0.50      0.49      1278\n",
      "weighted avg       0.91      0.96      0.93      1278\n",
      "\n"
     ]
    },
    {
     "name": "stderr",
     "output_type": "stream",
     "text": [
      "C:\\Users\\Polash\\AppData\\Roaming\\Python\\Python38\\site-packages\\sklearn\\metrics\\_classification.py:1245: UndefinedMetricWarning: Precision and F-score are ill-defined and being set to 0.0 in labels with no predicted samples. Use `zero_division` parameter to control this behavior.\n",
      "  _warn_prf(average, modifier, msg_start, len(result))\n",
      "C:\\Users\\Polash\\AppData\\Roaming\\Python\\Python38\\site-packages\\sklearn\\metrics\\_classification.py:1245: UndefinedMetricWarning: Precision and F-score are ill-defined and being set to 0.0 in labels with no predicted samples. Use `zero_division` parameter to control this behavior.\n",
      "  _warn_prf(average, modifier, msg_start, len(result))\n",
      "C:\\Users\\Polash\\AppData\\Roaming\\Python\\Python38\\site-packages\\sklearn\\metrics\\_classification.py:1245: UndefinedMetricWarning: Precision and F-score are ill-defined and being set to 0.0 in labels with no predicted samples. Use `zero_division` parameter to control this behavior.\n",
      "  _warn_prf(average, modifier, msg_start, len(result))\n"
     ]
    }
   ],
   "source": [
    "from sklearn.metrics import classification_report\n",
    "print(classification_report(ytest,predknnc))"
   ]
  },
  {
   "cell_type": "code",
   "execution_count": 79,
   "metadata": {},
   "outputs": [
    {
     "name": "stdout",
     "output_type": "stream",
     "text": [
      "[[1222    0]\n",
      " [  56    0]]\n"
     ]
    }
   ],
   "source": [
    "from sklearn.metrics import confusion_matrix\n",
    "print(confusion_matrix(ytest,predknnc))"
   ]
  },
  {
   "cell_type": "code",
   "execution_count": null,
   "metadata": {},
   "outputs": [],
   "source": []
  },
  {
   "cell_type": "code",
   "execution_count": 80,
   "metadata": {},
   "outputs": [
    {
     "data": {
      "text/plain": [
       "0.9561815336463224"
      ]
     },
     "execution_count": 80,
     "metadata": {},
     "output_type": "execute_result"
    }
   ],
   "source": [
    "KNNC.score(xtest,ytest)"
   ]
  },
  {
   "cell_type": "code",
   "execution_count": 81,
   "metadata": {},
   "outputs": [
    {
     "data": {
      "text/plain": [
       "0.952054794520548"
      ]
     },
     "execution_count": 81,
     "metadata": {},
     "output_type": "execute_result"
    }
   ],
   "source": [
    "#60% test data\n",
    "KNNC.score(atest,btest)"
   ]
  },
  {
   "cell_type": "code",
   "execution_count": 82,
   "metadata": {},
   "outputs": [
    {
     "data": {
      "text/plain": [
       "0.9512720156555773"
      ]
     },
     "execution_count": 82,
     "metadata": {},
     "output_type": "execute_result"
    }
   ],
   "source": [
    "#total data\n",
    "KNNC.score(x,y)"
   ]
  },
  {
   "cell_type": "code",
   "execution_count": null,
   "metadata": {},
   "outputs": [],
   "source": []
  },
  {
   "cell_type": "code",
   "execution_count": null,
   "metadata": {},
   "outputs": [],
   "source": []
  },
  {
   "cell_type": "markdown",
   "metadata": {},
   "source": [
    "# Bagging Classifier"
   ]
  },
  {
   "cell_type": "code",
   "execution_count": 83,
   "metadata": {},
   "outputs": [
    {
     "data": {
      "text/plain": [
       "BaggingClassifier(max_features=0.5, max_samples=0.5, n_estimators=500)"
      ]
     },
     "execution_count": 83,
     "metadata": {},
     "output_type": "execute_result"
    }
   ],
   "source": [
    "from sklearn.ensemble import BaggingClassifier\n",
    "BC = BaggingClassifier(n_estimators = 500, max_samples = 0.5, max_features = 0.5)\n",
    "BC.fit(xtrain,ytrain)"
   ]
  },
  {
   "cell_type": "code",
   "execution_count": 84,
   "metadata": {},
   "outputs": [
    {
     "data": {
      "text/plain": [
       "array([0, 0, 0, ..., 0, 0, 0], dtype=int64)"
      ]
     },
     "execution_count": 84,
     "metadata": {},
     "output_type": "execute_result"
    }
   ],
   "source": [
    "predbc=BC.predict(xtest)\n",
    "predbc"
   ]
  },
  {
   "cell_type": "code",
   "execution_count": 85,
   "metadata": {},
   "outputs": [
    {
     "name": "stdout",
     "output_type": "stream",
     "text": [
      "              precision    recall  f1-score   support\n",
      "\n",
      "           0       0.96      1.00      0.98      1222\n",
      "           1       0.00      0.00      0.00        56\n",
      "\n",
      "    accuracy                           0.96      1278\n",
      "   macro avg       0.48      0.50      0.49      1278\n",
      "weighted avg       0.91      0.96      0.93      1278\n",
      "\n"
     ]
    },
    {
     "name": "stderr",
     "output_type": "stream",
     "text": [
      "C:\\Users\\Polash\\AppData\\Roaming\\Python\\Python38\\site-packages\\sklearn\\metrics\\_classification.py:1245: UndefinedMetricWarning: Precision and F-score are ill-defined and being set to 0.0 in labels with no predicted samples. Use `zero_division` parameter to control this behavior.\n",
      "  _warn_prf(average, modifier, msg_start, len(result))\n",
      "C:\\Users\\Polash\\AppData\\Roaming\\Python\\Python38\\site-packages\\sklearn\\metrics\\_classification.py:1245: UndefinedMetricWarning: Precision and F-score are ill-defined and being set to 0.0 in labels with no predicted samples. Use `zero_division` parameter to control this behavior.\n",
      "  _warn_prf(average, modifier, msg_start, len(result))\n",
      "C:\\Users\\Polash\\AppData\\Roaming\\Python\\Python38\\site-packages\\sklearn\\metrics\\_classification.py:1245: UndefinedMetricWarning: Precision and F-score are ill-defined and being set to 0.0 in labels with no predicted samples. Use `zero_division` parameter to control this behavior.\n",
      "  _warn_prf(average, modifier, msg_start, len(result))\n"
     ]
    }
   ],
   "source": [
    "from sklearn.metrics import classification_report\n",
    "print(classification_report(ytest,predbc))"
   ]
  },
  {
   "cell_type": "code",
   "execution_count": 86,
   "metadata": {},
   "outputs": [
    {
     "name": "stdout",
     "output_type": "stream",
     "text": [
      "[[1222    0]\n",
      " [  56    0]]\n"
     ]
    }
   ],
   "source": [
    "from sklearn.metrics import confusion_matrix\n",
    "print(confusion_matrix(ytest,predbc))"
   ]
  },
  {
   "cell_type": "code",
   "execution_count": 87,
   "metadata": {},
   "outputs": [
    {
     "data": {
      "text/plain": [
       "0.9561815336463224"
      ]
     },
     "execution_count": 87,
     "metadata": {},
     "output_type": "execute_result"
    }
   ],
   "source": [
    "from sklearn.metrics import accuracy_score\n",
    "accuracy_score(ytest,predbc)"
   ]
  },
  {
   "cell_type": "code",
   "execution_count": 88,
   "metadata": {},
   "outputs": [
    {
     "data": {
      "text/plain": [
       "0.9561815336463224"
      ]
     },
     "execution_count": 88,
     "metadata": {},
     "output_type": "execute_result"
    }
   ],
   "source": [
    "BC.score(xtest,ytest)"
   ]
  },
  {
   "cell_type": "code",
   "execution_count": null,
   "metadata": {},
   "outputs": [],
   "source": []
  },
  {
   "cell_type": "code",
   "execution_count": null,
   "metadata": {},
   "outputs": [],
   "source": []
  },
  {
   "cell_type": "code",
   "execution_count": null,
   "metadata": {},
   "outputs": [],
   "source": []
  },
  {
   "cell_type": "markdown",
   "metadata": {},
   "source": [
    "# Gradient Boosting Classifier"
   ]
  },
  {
   "cell_type": "code",
   "execution_count": 89,
   "metadata": {},
   "outputs": [],
   "source": [
    "from sklearn.ensemble import  GradientBoostingClassifier\n",
    "GBC= GradientBoostingClassifier()"
   ]
  },
  {
   "cell_type": "code",
   "execution_count": 90,
   "metadata": {},
   "outputs": [
    {
     "data": {
      "text/plain": [
       "GradientBoostingClassifier()"
      ]
     },
     "execution_count": 90,
     "metadata": {},
     "output_type": "execute_result"
    }
   ],
   "source": [
    "GBC.fit(xtrain,ytrain)"
   ]
  },
  {
   "cell_type": "code",
   "execution_count": 91,
   "metadata": {},
   "outputs": [
    {
     "data": {
      "text/plain": [
       "array([0, 0, 0, ..., 0, 0, 0], dtype=int64)"
      ]
     },
     "execution_count": 91,
     "metadata": {},
     "output_type": "execute_result"
    }
   ],
   "source": [
    "predgbc=GBC.predict(xtest)\n",
    "predgbc"
   ]
  },
  {
   "cell_type": "code",
   "execution_count": 92,
   "metadata": {},
   "outputs": [
    {
     "name": "stdout",
     "output_type": "stream",
     "text": [
      "              precision    recall  f1-score   support\n",
      "\n",
      "           0       0.96      1.00      0.98      1222\n",
      "           1       0.29      0.04      0.06        56\n",
      "\n",
      "    accuracy                           0.95      1278\n",
      "   macro avg       0.62      0.52      0.52      1278\n",
      "weighted avg       0.93      0.95      0.94      1278\n",
      "\n"
     ]
    }
   ],
   "source": [
    "from sklearn.metrics import classification_report\n",
    "print(classification_report(ytest,predgbc))"
   ]
  },
  {
   "cell_type": "code",
   "execution_count": 93,
   "metadata": {},
   "outputs": [
    {
     "name": "stdout",
     "output_type": "stream",
     "text": [
      "[[1222    0]\n",
      " [  56    0]]\n"
     ]
    }
   ],
   "source": [
    "from sklearn.metrics import confusion_matrix\n",
    "print(confusion_matrix(ytest,pred))"
   ]
  },
  {
   "cell_type": "code",
   "execution_count": 94,
   "metadata": {},
   "outputs": [
    {
     "data": {
      "text/plain": [
       "0.9538341158059468"
      ]
     },
     "execution_count": 94,
     "metadata": {},
     "output_type": "execute_result"
    }
   ],
   "source": [
    "from sklearn.metrics import accuracy_score\n",
    "accuracy_score(ytest,predgbc)"
   ]
  },
  {
   "cell_type": "code",
   "execution_count": 95,
   "metadata": {},
   "outputs": [
    {
     "data": {
      "text/plain": [
       "0.9538341158059468"
      ]
     },
     "execution_count": 95,
     "metadata": {},
     "output_type": "execute_result"
    }
   ],
   "source": [
    "GBC.score(xtest,ytest)"
   ]
  },
  {
   "cell_type": "code",
   "execution_count": null,
   "metadata": {},
   "outputs": [],
   "source": []
  },
  {
   "cell_type": "markdown",
   "metadata": {},
   "source": [
    "# Extra Trees Classifier"
   ]
  },
  {
   "cell_type": "code",
   "execution_count": 96,
   "metadata": {},
   "outputs": [],
   "source": [
    "from sklearn.ensemble import  ExtraTreesClassifier\n",
    "ETC = ExtraTreesClassifier()"
   ]
  },
  {
   "cell_type": "code",
   "execution_count": 97,
   "metadata": {},
   "outputs": [
    {
     "data": {
      "text/plain": [
       "ExtraTreesClassifier()"
      ]
     },
     "execution_count": 97,
     "metadata": {},
     "output_type": "execute_result"
    }
   ],
   "source": [
    "ETC.fit(xtrain,ytrain)"
   ]
  },
  {
   "cell_type": "code",
   "execution_count": 98,
   "metadata": {},
   "outputs": [
    {
     "data": {
      "text/plain": [
       "array([0, 0, 0, ..., 0, 0, 0], dtype=int64)"
      ]
     },
     "execution_count": 98,
     "metadata": {},
     "output_type": "execute_result"
    }
   ],
   "source": [
    "predETC=ETC.predict(xtest)\n",
    "predETC"
   ]
  },
  {
   "cell_type": "code",
   "execution_count": 99,
   "metadata": {},
   "outputs": [
    {
     "name": "stdout",
     "output_type": "stream",
     "text": [
      "              precision    recall  f1-score   support\n",
      "\n",
      "           0       0.96      0.97      0.96      1222\n",
      "           1       0.12      0.09      0.10        56\n",
      "\n",
      "    accuracy                           0.93      1278\n",
      "   macro avg       0.54      0.53      0.53      1278\n",
      "weighted avg       0.92      0.93      0.93      1278\n",
      "\n"
     ]
    }
   ],
   "source": [
    "from sklearn.metrics import classification_report\n",
    "print(classification_report(ytest,predETC))"
   ]
  },
  {
   "cell_type": "code",
   "execution_count": 100,
   "metadata": {},
   "outputs": [
    {
     "name": "stdout",
     "output_type": "stream",
     "text": [
      "[[1184   38]\n",
      " [  51    5]]\n"
     ]
    }
   ],
   "source": [
    "from sklearn.metrics import confusion_matrix\n",
    "print(confusion_matrix(ytest,predETC))"
   ]
  },
  {
   "cell_type": "code",
   "execution_count": 101,
   "metadata": {},
   "outputs": [
    {
     "data": {
      "text/plain": [
       "0.9303599374021909"
      ]
     },
     "execution_count": 101,
     "metadata": {},
     "output_type": "execute_result"
    }
   ],
   "source": [
    "from sklearn.metrics import accuracy_score\n",
    "accuracy_score(ytest,predETC)"
   ]
  },
  {
   "cell_type": "code",
   "execution_count": null,
   "metadata": {},
   "outputs": [],
   "source": []
  },
  {
   "cell_type": "code",
   "execution_count": 102,
   "metadata": {},
   "outputs": [
    {
     "data": {
      "text/plain": [
       "0.9303599374021909"
      ]
     },
     "execution_count": 102,
     "metadata": {},
     "output_type": "execute_result"
    }
   ],
   "source": [
    "ETC.score(xtest,ytest)"
   ]
  },
  {
   "cell_type": "code",
   "execution_count": null,
   "metadata": {},
   "outputs": [],
   "source": []
  },
  {
   "cell_type": "code",
   "execution_count": null,
   "metadata": {},
   "outputs": [],
   "source": []
  },
  {
   "cell_type": "markdown",
   "metadata": {},
   "source": [
    "# Artificial Neural Network"
   ]
  },
  {
   "cell_type": "code",
   "execution_count": 103,
   "metadata": {},
   "outputs": [],
   "source": [
    "import tensorflow as tf\n",
    "from tensorflow import keras"
   ]
  },
  {
   "cell_type": "code",
   "execution_count": 104,
   "metadata": {},
   "outputs": [],
   "source": [
    "modelss = tf.keras.Sequential([\n",
    "  tf.keras.layers.Dense(1, input_shape=[10], activation='tanh'),\n",
    "    tf.keras.layers.Dense(1, input_shape=[10], activation='linear')\n",
    "])"
   ]
  },
  {
   "cell_type": "code",
   "execution_count": 105,
   "metadata": {},
   "outputs": [],
   "source": [
    "modelss.compile(\n",
    "optimizer='adamax',\n",
    "    loss='mean_squared_error',\n",
    "    metrics=['accuracy']\n",
    "\n",
    ")"
   ]
  },
  {
   "cell_type": "code",
   "execution_count": 106,
   "metadata": {},
   "outputs": [
    {
     "name": "stdout",
     "output_type": "stream",
     "text": [
      "Model: \"sequential\"\n",
      "_________________________________________________________________\n",
      "Layer (type)                 Output Shape              Param #   \n",
      "=================================================================\n",
      "dense (Dense)                (None, 1)                 11        \n",
      "_________________________________________________________________\n",
      "dense_1 (Dense)              (None, 1)                 2         \n",
      "=================================================================\n",
      "Total params: 13\n",
      "Trainable params: 13\n",
      "Non-trainable params: 0\n",
      "_________________________________________________________________\n"
     ]
    }
   ],
   "source": [
    "modelss.summary()"
   ]
  },
  {
   "cell_type": "code",
   "execution_count": 107,
   "metadata": {},
   "outputs": [
    {
     "name": "stdout",
     "output_type": "stream",
     "text": [
      "Epoch 1/500\n",
      "160/160 [==============================] - 0s 550us/step - loss: 0.2013 - accuracy: 0.7407\n",
      "Epoch 2/500\n",
      "160/160 [==============================] - 0s 654us/step - loss: 0.0863 - accuracy: 0.9513\n",
      "Epoch 3/500\n",
      "160/160 [==============================] - 0s 623us/step - loss: 0.0544 - accuracy: 0.9513\n",
      "Epoch 4/500\n",
      "160/160 [==============================] - 0s 673us/step - loss: 0.0476 - accuracy: 0.9513\n",
      "Epoch 5/500\n",
      "160/160 [==============================] - 0s 630us/step - loss: 0.0465 - accuracy: 0.9513\n",
      "Epoch 6/500\n",
      "160/160 [==============================] - 0s 642us/step - loss: 0.0464 - accuracy: 0.9513\n",
      "Epoch 7/500\n",
      "160/160 [==============================] - 0s 617us/step - loss: 0.0464 - accuracy: 0.9513\n",
      "Epoch 8/500\n",
      "160/160 [==============================] - 0s 579us/step - loss: 0.0464 - accuracy: 0.9513\n",
      "Epoch 9/500\n",
      "160/160 [==============================] - 0s 438us/step - loss: 0.0464 - accuracy: 0.9513\n",
      "Epoch 10/500\n",
      "160/160 [==============================] - 0s 642us/step - loss: 0.0464 - accuracy: 0.9513\n",
      "Epoch 11/500\n",
      "160/160 [==============================] - 0s 677us/step - loss: 0.0464 - accuracy: 0.9513\n",
      "Epoch 12/500\n",
      "160/160 [==============================] - 0s 692us/step - loss: 0.0464 - accuracy: 0.9513\n",
      "Epoch 13/500\n",
      "160/160 [==============================] - 0s 596us/step - loss: 0.0464 - accuracy: 0.9513\n",
      "Epoch 14/500\n",
      "160/160 [==============================] - 0s 671us/step - loss: 0.0464 - accuracy: 0.9513\n",
      "Epoch 15/500\n",
      "160/160 [==============================] - 0s 611us/step - loss: 0.0464 - accuracy: 0.9513\n",
      "Epoch 16/500\n",
      "160/160 [==============================] - 0s 661us/step - loss: 0.0464 - accuracy: 0.9513\n",
      "Epoch 17/500\n",
      "160/160 [==============================] - 0s 563us/step - loss: 0.0464 - accuracy: 0.9513\n",
      "Epoch 18/500\n",
      "160/160 [==============================] - 0s 530us/step - loss: 0.0464 - accuracy: 0.9513\n",
      "Epoch 19/500\n",
      "160/160 [==============================] - 0s 630us/step - loss: 0.0464 - accuracy: 0.9513\n",
      "Epoch 20/500\n",
      "160/160 [==============================] - 0s 666us/step - loss: 0.0464 - accuracy: 0.9513\n",
      "Epoch 21/500\n",
      "160/160 [==============================] - 0s 598us/step - loss: 0.0464 - accuracy: 0.9513\n",
      "Epoch 22/500\n",
      "160/160 [==============================] - 0s 623us/step - loss: 0.0464 - accuracy: 0.9513\n",
      "Epoch 23/500\n",
      "160/160 [==============================] - 0s 818us/step - loss: 0.0464 - accuracy: 0.9513\n",
      "Epoch 24/500\n",
      "160/160 [==============================] - 0s 742us/step - loss: 0.0464 - accuracy: 0.9513\n",
      "Epoch 25/500\n",
      "160/160 [==============================] - 0s 512us/step - loss: 0.0464 - accuracy: 0.9513\n",
      "Epoch 26/500\n",
      "160/160 [==============================] - 0s 636us/step - loss: 0.0464 - accuracy: 0.9513\n",
      "Epoch 27/500\n",
      "160/160 [==============================] - 0s 564us/step - loss: 0.0464 - accuracy: 0.9513\n",
      "Epoch 28/500\n",
      "160/160 [==============================] - 0s 596us/step - loss: 0.0464 - accuracy: 0.9513\n",
      "Epoch 29/500\n",
      "160/160 [==============================] - 0s 486us/step - loss: 0.0464 - accuracy: 0.9513\n",
      "Epoch 30/500\n",
      "160/160 [==============================] - 0s 541us/step - loss: 0.0464 - accuracy: 0.9513\n",
      "Epoch 31/500\n",
      "160/160 [==============================] - 0s 536us/step - loss: 0.0464 - accuracy: 0.9513\n",
      "Epoch 32/500\n",
      "160/160 [==============================] - 0s 511us/step - loss: 0.0464 - accuracy: 0.9513\n",
      "Epoch 33/500\n",
      "160/160 [==============================] - 0s 586us/step - loss: 0.0464 - accuracy: 0.9513\n",
      "Epoch 34/500\n",
      "160/160 [==============================] - 0s 630us/step - loss: 0.0464 - accuracy: 0.9513\n",
      "Epoch 35/500\n",
      "160/160 [==============================] - 0s 661us/step - loss: 0.0464 - accuracy: 0.9513\n",
      "Epoch 36/500\n",
      "160/160 [==============================] - 0s 537us/step - loss: 0.0464 - accuracy: 0.9513\n",
      "Epoch 37/500\n",
      "160/160 [==============================] - 0s 573us/step - loss: 0.0464 - accuracy: 0.9513\n",
      "Epoch 38/500\n",
      "160/160 [==============================] - 0s 642us/step - loss: 0.0464 - accuracy: 0.9513\n",
      "Epoch 39/500\n",
      "160/160 [==============================] - 0s 717us/step - loss: 0.0464 - accuracy: 0.9513\n",
      "Epoch 40/500\n",
      "160/160 [==============================] - 0s 642us/step - loss: 0.0464 - accuracy: 0.9513\n",
      "Epoch 41/500\n",
      "160/160 [==============================] - 0s 711us/step - loss: 0.0464 - accuracy: 0.9513\n",
      "Epoch 42/500\n",
      "160/160 [==============================] - 0s 605us/step - loss: 0.0464 - accuracy: 0.9513\n",
      "Epoch 43/500\n",
      "160/160 [==============================] - 0s 620us/step - loss: 0.0464 - accuracy: 0.9513\n",
      "Epoch 44/500\n",
      "160/160 [==============================] - 0s 555us/step - loss: 0.0464 - accuracy: 0.9513\n",
      "Epoch 45/500\n",
      "160/160 [==============================] - 0s 661us/step - loss: 0.0464 - accuracy: 0.9513\n",
      "Epoch 46/500\n",
      "160/160 [==============================] - 0s 577us/step - loss: 0.0464 - accuracy: 0.9513\n",
      "Epoch 47/500\n",
      "160/160 [==============================] - 0s 627us/step - loss: 0.0464 - accuracy: 0.9513\n",
      "Epoch 48/500\n",
      "160/160 [==============================] - 0s 648us/step - loss: 0.0464 - accuracy: 0.9513\n",
      "Epoch 49/500\n",
      "160/160 [==============================] - 0s 608us/step - loss: 0.0464 - accuracy: 0.9513\n",
      "Epoch 50/500\n",
      "160/160 [==============================] - 0s 524us/step - loss: 0.0464 - accuracy: 0.9513\n",
      "Epoch 51/500\n",
      "160/160 [==============================] - 0s 561us/step - loss: 0.0464 - accuracy: 0.9513\n",
      "Epoch 52/500\n",
      "160/160 [==============================] - 0s 605us/step - loss: 0.0464 - accuracy: 0.9513\n",
      "Epoch 53/500\n",
      "160/160 [==============================] - 0s 655us/step - loss: 0.0464 - accuracy: 0.9513\n",
      "Epoch 54/500\n",
      "160/160 [==============================] - 0s 573us/step - loss: 0.0464 - accuracy: 0.9513\n",
      "Epoch 55/500\n",
      "160/160 [==============================] - 0s 520us/step - loss: 0.0464 - accuracy: 0.9513\n",
      "Epoch 56/500\n",
      "160/160 [==============================] - 0s 497us/step - loss: 0.0464 - accuracy: 0.9513\n",
      "Epoch 57/500\n",
      "160/160 [==============================] - 0s 505us/step - loss: 0.0464 - accuracy: 0.9513\n",
      "Epoch 58/500\n",
      "160/160 [==============================] - 0s 517us/step - loss: 0.0464 - accuracy: 0.9513\n",
      "Epoch 59/500\n",
      "160/160 [==============================] - 0s 511us/step - loss: 0.0464 - accuracy: 0.9513\n",
      "Epoch 60/500\n",
      "160/160 [==============================] - 0s 530us/step - loss: 0.0464 - accuracy: 0.9513\n",
      "Epoch 61/500\n",
      "160/160 [==============================] - 0s 477us/step - loss: 0.0464 - accuracy: 0.9513\n",
      "Epoch 62/500\n",
      "160/160 [==============================] - 0s 536us/step - loss: 0.0464 - accuracy: 0.9513\n",
      "Epoch 63/500\n",
      "160/160 [==============================] - 0s 522us/step - loss: 0.0464 - accuracy: 0.9513\n",
      "Epoch 64/500\n",
      "160/160 [==============================] - 0s 597us/step - loss: 0.0464 - accuracy: 0.9513\n",
      "Epoch 65/500\n",
      "160/160 [==============================] - 0s 779us/step - loss: 0.0464 - accuracy: 0.9513\n",
      "Epoch 66/500\n",
      "160/160 [==============================] - 0s 560us/step - loss: 0.0464 - accuracy: 0.9513\n",
      "Epoch 67/500\n",
      "160/160 [==============================] - 0s 527us/step - loss: 0.0464 - accuracy: 0.9513\n",
      "Epoch 68/500\n",
      "160/160 [==============================] - 0s 490us/step - loss: 0.0464 - accuracy: 0.9513\n",
      "Epoch 69/500\n",
      "160/160 [==============================] - 0s 524us/step - loss: 0.0464 - accuracy: 0.9513\n",
      "Epoch 70/500\n",
      "160/160 [==============================] - 0s 457us/step - loss: 0.0464 - accuracy: 0.9513\n",
      "Epoch 71/500\n",
      "160/160 [==============================] - 0s 502us/step - loss: 0.0464 - accuracy: 0.9513\n",
      "Epoch 72/500\n",
      "160/160 [==============================] - 0s 511us/step - loss: 0.0464 - accuracy: 0.9513\n",
      "Epoch 73/500\n",
      "160/160 [==============================] - 0s 537us/step - loss: 0.0464 - accuracy: 0.9513\n",
      "Epoch 74/500\n",
      "160/160 [==============================] - 0s 589us/step - loss: 0.0464 - accuracy: 0.9513\n",
      "Epoch 75/500\n",
      "160/160 [==============================] - 0s 489us/step - loss: 0.0464 - accuracy: 0.9513\n",
      "Epoch 76/500\n",
      "160/160 [==============================] - 0s 548us/step - loss: 0.0464 - accuracy: 0.9513\n",
      "Epoch 77/500\n",
      "160/160 [==============================] - 0s 547us/step - loss: 0.0464 - accuracy: 0.9513\n",
      "Epoch 78/500\n",
      "160/160 [==============================] - 0s 667us/step - loss: 0.0464 - accuracy: 0.9513\n",
      "Epoch 79/500\n",
      "160/160 [==============================] - 0s 648us/step - loss: 0.0464 - accuracy: 0.9513\n",
      "Epoch 80/500\n",
      "160/160 [==============================] - 0s 631us/step - loss: 0.0464 - accuracy: 0.9513\n",
      "Epoch 81/500\n",
      "160/160 [==============================] - 0s 468us/step - loss: 0.0464 - accuracy: 0.9513\n",
      "Epoch 82/500\n",
      "160/160 [==============================] - 0s 505us/step - loss: 0.0464 - accuracy: 0.9513\n",
      "Epoch 83/500\n",
      "160/160 [==============================] - 0s 580us/step - loss: 0.0464 - accuracy: 0.9513\n",
      "Epoch 84/500\n",
      "160/160 [==============================] - 0s 521us/step - loss: 0.0464 - accuracy: 0.9513\n",
      "Epoch 85/500\n",
      "160/160 [==============================] - 0s 711us/step - loss: 0.0464 - accuracy: 0.9513\n",
      "Epoch 86/500\n",
      "160/160 [==============================] - 0s 616us/step - loss: 0.0463 - accuracy: 0.9513\n",
      "Epoch 87/500\n",
      "160/160 [==============================] - 0s 524us/step - loss: 0.0464 - accuracy: 0.9513\n",
      "Epoch 88/500\n",
      "160/160 [==============================] - 0s 548us/step - loss: 0.0464 - accuracy: 0.9513\n",
      "Epoch 89/500\n",
      "160/160 [==============================] - 0s 536us/step - loss: 0.0464 - accuracy: 0.9513\n",
      "Epoch 90/500\n",
      "160/160 [==============================] - 0s 507us/step - loss: 0.0464 - accuracy: 0.9513\n",
      "Epoch 91/500\n",
      "160/160 [==============================] - 0s 518us/step - loss: 0.0464 - accuracy: 0.9513\n",
      "Epoch 92/500\n",
      "160/160 [==============================] - 0s 564us/step - loss: 0.0464 - accuracy: 0.9513\n",
      "Epoch 93/500\n",
      "160/160 [==============================] - 0s 546us/step - loss: 0.0464 - accuracy: 0.9513\n",
      "Epoch 94/500\n",
      "160/160 [==============================] - 0s 540us/step - loss: 0.0464 - accuracy: 0.9513\n",
      "Epoch 95/500\n",
      "160/160 [==============================] - 0s 473us/step - loss: 0.0464 - accuracy: 0.9513\n",
      "Epoch 96/500\n",
      "160/160 [==============================] - 0s 561us/step - loss: 0.0464 - accuracy: 0.9513\n",
      "Epoch 97/500\n",
      "160/160 [==============================] - 0s 533us/step - loss: 0.0464 - accuracy: 0.9513\n",
      "Epoch 98/500\n",
      "160/160 [==============================] - 0s 510us/step - loss: 0.0464 - accuracy: 0.9513\n",
      "Epoch 99/500\n",
      "160/160 [==============================] - 0s 616us/step - loss: 0.0464 - accuracy: 0.9513\n",
      "Epoch 100/500\n",
      "160/160 [==============================] - 0s 490us/step - loss: 0.0464 - accuracy: 0.9513\n",
      "Epoch 101/500\n",
      "160/160 [==============================] - 0s 571us/step - loss: 0.0464 - accuracy: 0.9513\n",
      "Epoch 102/500\n",
      "160/160 [==============================] - 0s 467us/step - loss: 0.0464 - accuracy: 0.9513\n",
      "Epoch 103/500\n",
      "160/160 [==============================] - 0s 530us/step - loss: 0.0464 - accuracy: 0.9513\n",
      "Epoch 104/500\n",
      "160/160 [==============================] - 0s 466us/step - loss: 0.0464 - accuracy: 0.9513\n",
      "Epoch 105/500\n",
      "160/160 [==============================] - 0s 477us/step - loss: 0.0464 - accuracy: 0.9513\n",
      "Epoch 106/500\n",
      "160/160 [==============================] - 0s 545us/step - loss: 0.0464 - accuracy: 0.9513\n",
      "Epoch 107/500\n",
      "160/160 [==============================] - 0s 474us/step - loss: 0.0464 - accuracy: 0.9513\n",
      "Epoch 108/500\n",
      "160/160 [==============================] - 0s 551us/step - loss: 0.0464 - accuracy: 0.9513\n",
      "Epoch 109/500\n",
      "160/160 [==============================] - 0s 498us/step - loss: 0.0464 - accuracy: 0.9513\n",
      "Epoch 110/500\n",
      "160/160 [==============================] - 0s 511us/step - loss: 0.0464 - accuracy: 0.9513\n",
      "Epoch 111/500\n",
      "160/160 [==============================] - 0s 597us/step - loss: 0.0464 - accuracy: 0.9513\n",
      "Epoch 112/500\n",
      "160/160 [==============================] - 0s 463us/step - loss: 0.0464 - accuracy: 0.9513\n",
      "Epoch 113/500\n",
      "160/160 [==============================] - 0s 664us/step - loss: 0.0464 - accuracy: 0.9513\n",
      "Epoch 114/500\n",
      "160/160 [==============================] - 0s 510us/step - loss: 0.0464 - accuracy: 0.9513\n",
      "Epoch 115/500\n",
      "160/160 [==============================] - 0s 548us/step - loss: 0.0464 - accuracy: 0.9513\n",
      "Epoch 116/500\n",
      "160/160 [==============================] - 0s 461us/step - loss: 0.0464 - accuracy: 0.9513\n",
      "Epoch 117/500\n",
      "160/160 [==============================] - 0s 486us/step - loss: 0.0464 - accuracy: 0.9513\n",
      "Epoch 118/500\n",
      "160/160 [==============================] - 0s 571us/step - loss: 0.0464 - accuracy: 0.9513\n",
      "Epoch 119/500\n",
      "160/160 [==============================] - 0s 692us/step - loss: 0.0464 - accuracy: 0.9513\n",
      "Epoch 120/500\n",
      "160/160 [==============================] - 0s 612us/step - loss: 0.0464 - accuracy: 0.9513\n",
      "Epoch 121/500\n",
      "160/160 [==============================] - 0s 511us/step - loss: 0.0464 - accuracy: 0.9513\n",
      "Epoch 122/500\n",
      "160/160 [==============================] - 0s 584us/step - loss: 0.0464 - accuracy: 0.9513\n",
      "Epoch 123/500\n",
      "160/160 [==============================] - 0s 582us/step - loss: 0.0464 - accuracy: 0.9513\n",
      "Epoch 124/500\n",
      "160/160 [==============================] - 0s 711us/step - loss: 0.0464 - accuracy: 0.9513\n",
      "Epoch 125/500\n",
      "160/160 [==============================] - 0s 587us/step - loss: 0.0464 - accuracy: 0.9513\n",
      "Epoch 126/500\n",
      "160/160 [==============================] - 0s 514us/step - loss: 0.0464 - accuracy: 0.9513\n",
      "Epoch 127/500\n",
      "160/160 [==============================] - 0s 525us/step - loss: 0.0464 - accuracy: 0.9513\n",
      "Epoch 128/500\n",
      "160/160 [==============================] - 0s 507us/step - loss: 0.0464 - accuracy: 0.9513\n",
      "Epoch 129/500\n",
      "160/160 [==============================] - 0s 474us/step - loss: 0.0464 - accuracy: 0.9513\n",
      "Epoch 130/500\n",
      "160/160 [==============================] - 0s 601us/step - loss: 0.0464 - accuracy: 0.9513\n",
      "Epoch 131/500\n",
      "160/160 [==============================] - 0s 717us/step - loss: 0.0464 - accuracy: 0.9513\n",
      "Epoch 132/500\n",
      "160/160 [==============================] - 0s 667us/step - loss: 0.0464 - accuracy: 0.9513\n",
      "Epoch 133/500\n",
      "160/160 [==============================] - 0s 539us/step - loss: 0.0464 - accuracy: 0.9513\n",
      "Epoch 134/500\n",
      "160/160 [==============================] - 0s 543us/step - loss: 0.0464 - accuracy: 0.9513\n",
      "Epoch 135/500\n",
      "160/160 [==============================] - 0s 599us/step - loss: 0.0464 - accuracy: 0.9513\n",
      "Epoch 136/500\n",
      "160/160 [==============================] - 0s 494us/step - loss: 0.0464 - accuracy: 0.9513\n",
      "Epoch 137/500\n",
      "160/160 [==============================] - 0s 553us/step - loss: 0.0464 - accuracy: 0.9513\n",
      "Epoch 138/500\n",
      "160/160 [==============================] - 0s 474us/step - loss: 0.0464 - accuracy: 0.9513\n",
      "Epoch 139/500\n",
      "160/160 [==============================] - 0s 534us/step - loss: 0.0464 - accuracy: 0.9513\n",
      "Epoch 140/500\n",
      "160/160 [==============================] - 0s 456us/step - loss: 0.0464 - accuracy: 0.9513\n",
      "Epoch 141/500\n",
      "160/160 [==============================] - 0s 498us/step - loss: 0.0464 - accuracy: 0.9513\n",
      "Epoch 142/500\n",
      "160/160 [==============================] - 0s 564us/step - loss: 0.0464 - accuracy: 0.9513\n",
      "Epoch 143/500\n",
      "160/160 [==============================] - 0s 662us/step - loss: 0.0464 - accuracy: 0.9513\n",
      "Epoch 144/500\n",
      "160/160 [==============================] - 0s 723us/step - loss: 0.0464 - accuracy: 0.9513\n",
      "Epoch 145/500\n",
      "160/160 [==============================] - 0s 692us/step - loss: 0.0464 - accuracy: 0.9513\n",
      "Epoch 146/500\n",
      "160/160 [==============================] - 0s 667us/step - loss: 0.0464 - accuracy: 0.9513\n",
      "Epoch 147/500\n",
      "160/160 [==============================] - 0s 549us/step - loss: 0.0464 - accuracy: 0.9513\n",
      "Epoch 148/500\n",
      "160/160 [==============================] - 0s 648us/step - loss: 0.0464 - accuracy: 0.9513\n",
      "Epoch 149/500\n",
      "160/160 [==============================] - 0s 605us/step - loss: 0.0464 - accuracy: 0.9513\n",
      "Epoch 150/500\n",
      "160/160 [==============================] - 0s 642us/step - loss: 0.0463 - accuracy: 0.9513\n",
      "Epoch 151/500\n",
      "160/160 [==============================] - 0s 586us/step - loss: 0.0464 - accuracy: 0.9513\n",
      "Epoch 152/500\n",
      "160/160 [==============================] - 0s 542us/step - loss: 0.0464 - accuracy: 0.9513\n",
      "Epoch 153/500\n",
      "160/160 [==============================] - 0s 494us/step - loss: 0.0464 - accuracy: 0.9513\n",
      "Epoch 154/500\n",
      "160/160 [==============================] - 0s 544us/step - loss: 0.0464 - accuracy: 0.9513\n",
      "Epoch 155/500\n",
      "160/160 [==============================] - 0s 517us/step - loss: 0.0464 - accuracy: 0.9513\n",
      "Epoch 156/500\n",
      "160/160 [==============================] - 0s 518us/step - loss: 0.0464 - accuracy: 0.9513\n",
      "Epoch 157/500\n"
     ]
    },
    {
     "name": "stdout",
     "output_type": "stream",
     "text": [
      "160/160 [==============================] - 0s 516us/step - loss: 0.0464 - accuracy: 0.9513\n",
      "Epoch 158/500\n",
      "160/160 [==============================] - 0s 455us/step - loss: 0.0464 - accuracy: 0.9513\n",
      "Epoch 159/500\n",
      "160/160 [==============================] - 0s 592us/step - loss: 0.0464 - accuracy: 0.9513\n",
      "Epoch 160/500\n",
      "160/160 [==============================] - 0s 609us/step - loss: 0.0464 - accuracy: 0.9513\n",
      "Epoch 161/500\n",
      "160/160 [==============================] - 0s 736us/step - loss: 0.0464 - accuracy: 0.9513\n",
      "Epoch 162/500\n",
      "160/160 [==============================] - 0s 667us/step - loss: 0.0464 - accuracy: 0.9513\n",
      "Epoch 163/500\n",
      "160/160 [==============================] - 0s 711us/step - loss: 0.0464 - accuracy: 0.9513\n",
      "Epoch 164/500\n",
      "160/160 [==============================] - 0s 742us/step - loss: 0.0464 - accuracy: 0.9513\n",
      "Epoch 165/500\n",
      "160/160 [==============================] - 0s 673us/step - loss: 0.0464 - accuracy: 0.9513\n",
      "Epoch 166/500\n",
      "160/160 [==============================] - 0s 667us/step - loss: 0.0464 - accuracy: 0.9513\n",
      "Epoch 167/500\n",
      "160/160 [==============================] - 0s 555us/step - loss: 0.0464 - accuracy: 0.9513\n",
      "Epoch 168/500\n",
      "160/160 [==============================] - 0s 530us/step - loss: 0.0464 - accuracy: 0.9513\n",
      "Epoch 169/500\n",
      "160/160 [==============================] - 0s 524us/step - loss: 0.0464 - accuracy: 0.9513\n",
      "Epoch 170/500\n",
      "160/160 [==============================] - 0s 536us/step - loss: 0.0464 - accuracy: 0.9513\n",
      "Epoch 171/500\n",
      "160/160 [==============================] - 0s 603us/step - loss: 0.0464 - accuracy: 0.9513\n",
      "Epoch 172/500\n",
      "160/160 [==============================] - 0s 516us/step - loss: 0.0464 - accuracy: 0.9513\n",
      "Epoch 173/500\n",
      "160/160 [==============================] - 0s 561us/step - loss: 0.0464 - accuracy: 0.9513\n",
      "Epoch 174/500\n",
      "160/160 [==============================] - 0s 505us/step - loss: 0.0464 - accuracy: 0.9513\n",
      "Epoch 175/500\n",
      "160/160 [==============================] - 0s 608us/step - loss: 0.0464 - accuracy: 0.9513\n",
      "Epoch 176/500\n",
      "160/160 [==============================] - 0s 619us/step - loss: 0.0464 - accuracy: 0.9513\n",
      "Epoch 177/500\n",
      "160/160 [==============================] - 0s 580us/step - loss: 0.0464 - accuracy: 0.9513\n",
      "Epoch 178/500\n",
      "160/160 [==============================] - 0s 586us/step - loss: 0.0464 - accuracy: 0.9513\n",
      "Epoch 179/500\n",
      "160/160 [==============================] - 0s 598us/step - loss: 0.0464 - accuracy: 0.9513\n",
      "Epoch 180/500\n",
      "160/160 [==============================] - 0s 600us/step - loss: 0.0464 - accuracy: 0.9513\n",
      "Epoch 181/500\n",
      "160/160 [==============================] - 0s 561us/step - loss: 0.0464 - accuracy: 0.9513\n",
      "Epoch 182/500\n",
      "160/160 [==============================] - 0s 622us/step - loss: 0.0464 - accuracy: 0.9513\n",
      "Epoch 183/500\n",
      "160/160 [==============================] - 0s 736us/step - loss: 0.0464 - accuracy: 0.9513\n",
      "Epoch 184/500\n",
      "160/160 [==============================] - 0s 785us/step - loss: 0.0464 - accuracy: 0.9513\n",
      "Epoch 185/500\n",
      "160/160 [==============================] - 0s 842us/step - loss: 0.0464 - accuracy: 0.9513\n",
      "Epoch 186/500\n",
      "160/160 [==============================] - 0s 532us/step - loss: 0.0464 - accuracy: 0.9513\n",
      "Epoch 187/500\n",
      "160/160 [==============================] - 0s 745us/step - loss: 0.0464 - accuracy: 0.9513\n",
      "Epoch 188/500\n",
      "160/160 [==============================] - 0s 592us/step - loss: 0.0464 - accuracy: 0.9513\n",
      "Epoch 189/500\n",
      "160/160 [==============================] - 0s 636us/step - loss: 0.0464 - accuracy: 0.9513\n",
      "Epoch 190/500\n",
      "160/160 [==============================] - 0s 696us/step - loss: 0.0464 - accuracy: 0.9513\n",
      "Epoch 191/500\n",
      "160/160 [==============================] - 0s 792us/step - loss: 0.0464 - accuracy: 0.9513\n",
      "Epoch 192/500\n",
      "160/160 [==============================] - 0s 711us/step - loss: 0.0464 - accuracy: 0.95130s - loss: 0.0500 - accuracy: 0.\n",
      "Epoch 193/500\n",
      "160/160 [==============================] - 0s 736us/step - loss: 0.0464 - accuracy: 0.9513\n",
      "Epoch 194/500\n",
      "160/160 [==============================] - 0s 773us/step - loss: 0.0464 - accuracy: 0.9513\n",
      "Epoch 195/500\n",
      "160/160 [==============================] - 0s 561us/step - loss: 0.0464 - accuracy: 0.9513\n",
      "Epoch 196/500\n",
      "160/160 [==============================] - 0s 605us/step - loss: 0.0464 - accuracy: 0.9513\n",
      "Epoch 197/500\n",
      "160/160 [==============================] - 0s 549us/step - loss: 0.0463 - accuracy: 0.9513\n",
      "Epoch 198/500\n",
      "160/160 [==============================] - 0s 542us/step - loss: 0.0464 - accuracy: 0.9513\n",
      "Epoch 199/500\n",
      "160/160 [==============================] - 0s 476us/step - loss: 0.0464 - accuracy: 0.9513\n",
      "Epoch 200/500\n",
      "160/160 [==============================] - 0s 455us/step - loss: 0.0464 - accuracy: 0.9513\n",
      "Epoch 201/500\n",
      "160/160 [==============================] - 0s 527us/step - loss: 0.0464 - accuracy: 0.9513\n",
      "Epoch 202/500\n",
      "160/160 [==============================] - 0s 480us/step - loss: 0.0464 - accuracy: 0.9513\n",
      "Epoch 203/500\n",
      "160/160 [==============================] - 0s 576us/step - loss: 0.0464 - accuracy: 0.9513\n",
      "Epoch 204/500\n",
      "160/160 [==============================] - 0s 523us/step - loss: 0.0464 - accuracy: 0.9513\n",
      "Epoch 205/500\n",
      "160/160 [==============================] - 0s 552us/step - loss: 0.0464 - accuracy: 0.9513\n",
      "Epoch 206/500\n",
      "160/160 [==============================] - 0s 623us/step - loss: 0.0464 - accuracy: 0.9513\n",
      "Epoch 207/500\n",
      "160/160 [==============================] - 0s 630us/step - loss: 0.0464 - accuracy: 0.9513\n",
      "Epoch 208/500\n",
      "160/160 [==============================] - 0s 636us/step - loss: 0.0464 - accuracy: 0.9513\n",
      "Epoch 209/500\n",
      "160/160 [==============================] - 0s 704us/step - loss: 0.0464 - accuracy: 0.9513\n",
      "Epoch 210/500\n",
      "160/160 [==============================] - 0s 598us/step - loss: 0.0464 - accuracy: 0.9513\n",
      "Epoch 211/500\n",
      "160/160 [==============================] - 0s 673us/step - loss: 0.0464 - accuracy: 0.9513\n",
      "Epoch 212/500\n",
      "160/160 [==============================] - 0s 598us/step - loss: 0.0464 - accuracy: 0.9513\n",
      "Epoch 213/500\n",
      "160/160 [==============================] - 0s 630us/step - loss: 0.0464 - accuracy: 0.9513\n",
      "Epoch 214/500\n",
      "160/160 [==============================] - 0s 598us/step - loss: 0.0464 - accuracy: 0.9513\n",
      "Epoch 215/500\n",
      "160/160 [==============================] - 0s 614us/step - loss: 0.0464 - accuracy: 0.9513\n",
      "Epoch 216/500\n",
      "160/160 [==============================] - 0s 528us/step - loss: 0.0464 - accuracy: 0.9513\n",
      "Epoch 217/500\n",
      "160/160 [==============================] - 0s 555us/step - loss: 0.0464 - accuracy: 0.9513\n",
      "Epoch 218/500\n",
      "160/160 [==============================] - 0s 528us/step - loss: 0.0464 - accuracy: 0.9513\n",
      "Epoch 219/500\n",
      "160/160 [==============================] - 0s 567us/step - loss: 0.0464 - accuracy: 0.9513\n",
      "Epoch 220/500\n",
      "160/160 [==============================] - 0s 567us/step - loss: 0.0464 - accuracy: 0.9513\n",
      "Epoch 221/500\n",
      "160/160 [==============================] - 0s 523us/step - loss: 0.0464 - accuracy: 0.9513\n",
      "Epoch 222/500\n",
      "160/160 [==============================] - 0s 499us/step - loss: 0.0464 - accuracy: 0.9513\n",
      "Epoch 223/500\n",
      "160/160 [==============================] - 0s 568us/step - loss: 0.0464 - accuracy: 0.9513\n",
      "Epoch 224/500\n",
      "160/160 [==============================] - 0s 617us/step - loss: 0.0464 - accuracy: 0.9513\n",
      "Epoch 225/500\n",
      "160/160 [==============================] - 0s 551us/step - loss: 0.0464 - accuracy: 0.9513\n",
      "Epoch 226/500\n",
      "160/160 [==============================] - 0s 549us/step - loss: 0.0464 - accuracy: 0.9513\n",
      "Epoch 227/500\n",
      "160/160 [==============================] - 0s 524us/step - loss: 0.0464 - accuracy: 0.9513\n",
      "Epoch 228/500\n",
      "160/160 [==============================] - 0s 592us/step - loss: 0.0464 - accuracy: 0.9513\n",
      "Epoch 229/500\n",
      "160/160 [==============================] - 0s 544us/step - loss: 0.0464 - accuracy: 0.9513\n",
      "Epoch 230/500\n",
      "160/160 [==============================] - 0s 569us/step - loss: 0.0464 - accuracy: 0.9513\n",
      "Epoch 231/500\n",
      "160/160 [==============================] - 0s 567us/step - loss: 0.0464 - accuracy: 0.9513\n",
      "Epoch 232/500\n",
      "160/160 [==============================] - 0s 454us/step - loss: 0.0464 - accuracy: 0.9513\n",
      "Epoch 233/500\n",
      "160/160 [==============================] - 0s 592us/step - loss: 0.0464 - accuracy: 0.9513\n",
      "Epoch 234/500\n",
      "160/160 [==============================] - 0s 455us/step - loss: 0.0464 - accuracy: 0.9513\n",
      "Epoch 235/500\n",
      "160/160 [==============================] - 0s 480us/step - loss: 0.0464 - accuracy: 0.9513\n",
      "Epoch 236/500\n",
      "160/160 [==============================] - 0s 517us/step - loss: 0.0464 - accuracy: 0.9513\n",
      "Epoch 237/500\n",
      "160/160 [==============================] - 0s 486us/step - loss: 0.0464 - accuracy: 0.9513\n",
      "Epoch 238/500\n",
      "160/160 [==============================] - 0s 536us/step - loss: 0.0464 - accuracy: 0.9513\n",
      "Epoch 239/500\n",
      "160/160 [==============================] - 0s 522us/step - loss: 0.0464 - accuracy: 0.9513\n",
      "Epoch 240/500\n",
      "160/160 [==============================] - 0s 478us/step - loss: 0.0464 - accuracy: 0.9513\n",
      "Epoch 241/500\n",
      "160/160 [==============================] - 0s 592us/step - loss: 0.0464 - accuracy: 0.9513\n",
      "Epoch 242/500\n",
      "160/160 [==============================] - 0s 480us/step - loss: 0.0464 - accuracy: 0.9513\n",
      "Epoch 243/500\n",
      "160/160 [==============================] - 0s 617us/step - loss: 0.0464 - accuracy: 0.9513\n",
      "Epoch 244/500\n",
      "160/160 [==============================] - 0s 555us/step - loss: 0.0464 - accuracy: 0.9513\n",
      "Epoch 245/500\n",
      "160/160 [==============================] - 0s 642us/step - loss: 0.0464 - accuracy: 0.9513\n",
      "Epoch 246/500\n",
      "160/160 [==============================] - 0s 528us/step - loss: 0.0464 - accuracy: 0.9513\n",
      "Epoch 247/500\n",
      "160/160 [==============================] - 0s 592us/step - loss: 0.0464 - accuracy: 0.9513\n",
      "Epoch 248/500\n",
      "160/160 [==============================] - 0s 549us/step - loss: 0.0464 - accuracy: 0.9513\n",
      "Epoch 249/500\n",
      "160/160 [==============================] - 0s 592us/step - loss: 0.0464 - accuracy: 0.9513\n",
      "Epoch 250/500\n",
      "160/160 [==============================] - 0s 567us/step - loss: 0.0464 - accuracy: 0.9513\n",
      "Epoch 251/500\n",
      "160/160 [==============================] - 0s 490us/step - loss: 0.0464 - accuracy: 0.9513\n",
      "Epoch 252/500\n",
      "160/160 [==============================] - 0s 542us/step - loss: 0.0464 - accuracy: 0.9513\n",
      "Epoch 253/500\n",
      "160/160 [==============================] - 0s 546us/step - loss: 0.0464 - accuracy: 0.9513\n",
      "Epoch 254/500\n",
      "160/160 [==============================] - 0s 643us/step - loss: 0.0464 - accuracy: 0.9513\n",
      "Epoch 255/500\n",
      "160/160 [==============================] - 0s 534us/step - loss: 0.0464 - accuracy: 0.9513\n",
      "Epoch 256/500\n",
      "160/160 [==============================] - 0s 621us/step - loss: 0.0464 - accuracy: 0.9513\n",
      "Epoch 257/500\n",
      "160/160 [==============================] - 0s 516us/step - loss: 0.0464 - accuracy: 0.9513\n",
      "Epoch 258/500\n",
      "160/160 [==============================] - 0s 617us/step - loss: 0.0464 - accuracy: 0.9513\n",
      "Epoch 259/500\n",
      "160/160 [==============================] - 0s 524us/step - loss: 0.0464 - accuracy: 0.9513\n",
      "Epoch 260/500\n",
      "160/160 [==============================] - 0s 607us/step - loss: 0.0464 - accuracy: 0.9513\n",
      "Epoch 261/500\n",
      "160/160 [==============================] - 0s 493us/step - loss: 0.0464 - accuracy: 0.9513\n",
      "Epoch 262/500\n",
      "160/160 [==============================] - 0s 443us/step - loss: 0.0464 - accuracy: 0.9513\n",
      "Epoch 263/500\n",
      "160/160 [==============================] - 0s 505us/step - loss: 0.0464 - accuracy: 0.9513\n",
      "Epoch 264/500\n",
      "160/160 [==============================] - 0s 459us/step - loss: 0.0464 - accuracy: 0.9513\n",
      "Epoch 265/500\n",
      "160/160 [==============================] - 0s 524us/step - loss: 0.0464 - accuracy: 0.9513\n",
      "Epoch 266/500\n",
      "160/160 [==============================] - 0s 480us/step - loss: 0.0464 - accuracy: 0.9513\n",
      "Epoch 267/500\n",
      "160/160 [==============================] - 0s 467us/step - loss: 0.0464 - accuracy: 0.9513\n",
      "Epoch 268/500\n",
      "160/160 [==============================] - 0s 559us/step - loss: 0.0464 - accuracy: 0.9513\n",
      "Epoch 269/500\n",
      "160/160 [==============================] - 0s 554us/step - loss: 0.0464 - accuracy: 0.9513\n",
      "Epoch 270/500\n",
      "160/160 [==============================] - 0s 555us/step - loss: 0.0464 - accuracy: 0.9513\n",
      "Epoch 271/500\n",
      "160/160 [==============================] - 0s 547us/step - loss: 0.0464 - accuracy: 0.9513\n",
      "Epoch 272/500\n",
      "160/160 [==============================] - 0s 598us/step - loss: 0.0464 - accuracy: 0.9513\n",
      "Epoch 273/500\n",
      "160/160 [==============================] - 0s 549us/step - loss: 0.0464 - accuracy: 0.9513\n",
      "Epoch 274/500\n",
      "160/160 [==============================] - 0s 555us/step - loss: 0.0464 - accuracy: 0.9513\n",
      "Epoch 275/500\n",
      "160/160 [==============================] - 0s 617us/step - loss: 0.0464 - accuracy: 0.9513\n",
      "Epoch 276/500\n",
      "160/160 [==============================] - 0s 543us/step - loss: 0.0464 - accuracy: 0.9513\n",
      "Epoch 277/500\n",
      "160/160 [==============================] - 0s 613us/step - loss: 0.0464 - accuracy: 0.9513\n",
      "Epoch 278/500\n",
      "160/160 [==============================] - 0s 573us/step - loss: 0.0464 - accuracy: 0.9513\n",
      "Epoch 279/500\n",
      "160/160 [==============================] - 0s 611us/step - loss: 0.0464 - accuracy: 0.9513\n",
      "Epoch 280/500\n",
      "160/160 [==============================] - 0s 443us/step - loss: 0.0464 - accuracy: 0.9513\n",
      "Epoch 281/500\n",
      "160/160 [==============================] - 0s 549us/step - loss: 0.0464 - accuracy: 0.9513\n",
      "Epoch 282/500\n",
      "160/160 [==============================] - 0s 480us/step - loss: 0.0464 - accuracy: 0.9513\n",
      "Epoch 283/500\n",
      "160/160 [==============================] - 0s 534us/step - loss: 0.0464 - accuracy: 0.9513\n",
      "Epoch 284/500\n",
      "160/160 [==============================] - 0s 630us/step - loss: 0.0464 - accuracy: 0.9513\n",
      "Epoch 285/500\n",
      "160/160 [==============================] - 0s 538us/step - loss: 0.0464 - accuracy: 0.9513\n",
      "Epoch 286/500\n",
      "160/160 [==============================] - 0s 728us/step - loss: 0.0464 - accuracy: 0.9513\n",
      "Epoch 287/500\n",
      "160/160 [==============================] - 0s 553us/step - loss: 0.0464 - accuracy: 0.9513\n",
      "Epoch 288/500\n",
      "160/160 [==============================] - 0s 658us/step - loss: 0.0464 - accuracy: 0.9513\n",
      "Epoch 289/500\n",
      "160/160 [==============================] - 0s 565us/step - loss: 0.0464 - accuracy: 0.9513\n",
      "Epoch 290/500\n",
      "160/160 [==============================] - 0s 499us/step - loss: 0.0464 - accuracy: 0.9513\n",
      "Epoch 291/500\n",
      "160/160 [==============================] - 0s 596us/step - loss: 0.0464 - accuracy: 0.9513\n",
      "Epoch 292/500\n",
      "160/160 [==============================] - 0s 583us/step - loss: 0.0464 - accuracy: 0.9513\n",
      "Epoch 293/500\n",
      "160/160 [==============================] - 0s 540us/step - loss: 0.0464 - accuracy: 0.9513\n",
      "Epoch 294/500\n",
      "160/160 [==============================] - 0s 567us/step - loss: 0.0464 - accuracy: 0.9513\n",
      "Epoch 295/500\n",
      "160/160 [==============================] - 0s 610us/step - loss: 0.0464 - accuracy: 0.9513\n",
      "Epoch 296/500\n",
      "160/160 [==============================] - 0s 577us/step - loss: 0.0464 - accuracy: 0.9513\n",
      "Epoch 297/500\n",
      "160/160 [==============================] - 0s 524us/step - loss: 0.0464 - accuracy: 0.9513\n",
      "Epoch 298/500\n",
      "160/160 [==============================] - 0s 565us/step - loss: 0.0464 - accuracy: 0.9513\n",
      "Epoch 299/500\n",
      "160/160 [==============================] - 0s 573us/step - loss: 0.0464 - accuracy: 0.9513\n",
      "Epoch 300/500\n",
      "160/160 [==============================] - 0s 505us/step - loss: 0.0464 - accuracy: 0.9513\n",
      "Epoch 301/500\n",
      "160/160 [==============================] - 0s 586us/step - loss: 0.0464 - accuracy: 0.9513\n",
      "Epoch 302/500\n",
      "160/160 [==============================] - 0s 481us/step - loss: 0.0464 - accuracy: 0.9513\n",
      "Epoch 303/500\n",
      "160/160 [==============================] - 0s 611us/step - loss: 0.0464 - accuracy: 0.9513\n",
      "Epoch 304/500\n",
      "160/160 [==============================] - 0s 536us/step - loss: 0.0464 - accuracy: 0.9513\n",
      "Epoch 305/500\n",
      "160/160 [==============================] - 0s 673us/step - loss: 0.0464 - accuracy: 0.9513\n",
      "Epoch 306/500\n",
      "160/160 [==============================] - 0s 486us/step - loss: 0.0464 - accuracy: 0.9513\n",
      "Epoch 307/500\n",
      "160/160 [==============================] - 0s 524us/step - loss: 0.0464 - accuracy: 0.9513\n",
      "Epoch 308/500\n",
      "160/160 [==============================] - 0s 542us/step - loss: 0.0464 - accuracy: 0.9513\n",
      "Epoch 309/500\n",
      "160/160 [==============================] - 0s 539us/step - loss: 0.0464 - accuracy: 0.9513\n",
      "Epoch 310/500\n",
      "160/160 [==============================] - 0s 561us/step - loss: 0.0464 - accuracy: 0.9513\n",
      "Epoch 311/500\n",
      "160/160 [==============================] - 0s 505us/step - loss: 0.0464 - accuracy: 0.9513\n",
      "Epoch 312/500\n"
     ]
    },
    {
     "name": "stdout",
     "output_type": "stream",
     "text": [
      "160/160 [==============================] - 0s 523us/step - loss: 0.0464 - accuracy: 0.9513\n",
      "Epoch 313/500\n",
      "160/160 [==============================] - 0s 583us/step - loss: 0.0464 - accuracy: 0.9513\n",
      "Epoch 314/500\n",
      "160/160 [==============================] - 0s 686us/step - loss: 0.0464 - accuracy: 0.9513\n",
      "Epoch 315/500\n",
      "160/160 [==============================] - 0s 603us/step - loss: 0.0464 - accuracy: 0.9513\n",
      "Epoch 316/500\n",
      "160/160 [==============================] - 0s 644us/step - loss: 0.0464 - accuracy: 0.9513\n",
      "Epoch 317/500\n",
      "160/160 [==============================] - 0s 472us/step - loss: 0.0464 - accuracy: 0.9513\n",
      "Epoch 318/500\n",
      "160/160 [==============================] - 0s 455us/step - loss: 0.0464 - accuracy: 0.9513\n",
      "Epoch 319/500\n",
      "160/160 [==============================] - 0s 502us/step - loss: 0.0464 - accuracy: 0.9513\n",
      "Epoch 320/500\n",
      "160/160 [==============================] - 0s 524us/step - loss: 0.0464 - accuracy: 0.9513\n",
      "Epoch 321/500\n",
      "160/160 [==============================] - 0s 573us/step - loss: 0.0464 - accuracy: 0.9513\n",
      "Epoch 322/500\n",
      "160/160 [==============================] - 0s 480us/step - loss: 0.0464 - accuracy: 0.9513\n",
      "Epoch 323/500\n",
      "160/160 [==============================] - 0s 530us/step - loss: 0.0464 - accuracy: 0.9513\n",
      "Epoch 324/500\n",
      "160/160 [==============================] - 0s 592us/step - loss: 0.0464 - accuracy: 0.9513\n",
      "Epoch 325/500\n",
      "160/160 [==============================] - 0s 461us/step - loss: 0.0464 - accuracy: 0.9513\n",
      "Epoch 326/500\n",
      "160/160 [==============================] - 0s 541us/step - loss: 0.0464 - accuracy: 0.9513\n",
      "Epoch 327/500\n",
      "160/160 [==============================] - 0s 463us/step - loss: 0.0464 - accuracy: 0.9513\n",
      "Epoch 328/500\n",
      "160/160 [==============================] - 0s 514us/step - loss: 0.0464 - accuracy: 0.9513\n",
      "Epoch 329/500\n",
      "160/160 [==============================] - 0s 555us/step - loss: 0.0464 - accuracy: 0.9513\n",
      "Epoch 330/500\n",
      "160/160 [==============================] - 0s 541us/step - loss: 0.0464 - accuracy: 0.9513\n",
      "Epoch 331/500\n",
      "160/160 [==============================] - 0s 673us/step - loss: 0.0464 - accuracy: 0.9513\n",
      "Epoch 332/500\n",
      "160/160 [==============================] - 0s 654us/step - loss: 0.0464 - accuracy: 0.9513\n",
      "Epoch 333/500\n",
      "160/160 [==============================] - 0s 752us/step - loss: 0.0464 - accuracy: 0.9513\n",
      "Epoch 334/500\n",
      "160/160 [==============================] - 0s 684us/step - loss: 0.0464 - accuracy: 0.9513\n",
      "Epoch 335/500\n",
      "160/160 [==============================] - 0s 611us/step - loss: 0.0464 - accuracy: 0.9513\n",
      "Epoch 336/500\n",
      "160/160 [==============================] - 0s 655us/step - loss: 0.0464 - accuracy: 0.9513\n",
      "Epoch 337/500\n",
      "160/160 [==============================] - 0s 573us/step - loss: 0.0464 - accuracy: 0.9513\n",
      "Epoch 338/500\n",
      "160/160 [==============================] - 0s 517us/step - loss: 0.0464 - accuracy: 0.9513\n",
      "Epoch 339/500\n",
      "160/160 [==============================] - 0s 580us/step - loss: 0.0464 - accuracy: 0.9513\n",
      "Epoch 340/500\n",
      "160/160 [==============================] - 0s 517us/step - loss: 0.0464 - accuracy: 0.9513\n",
      "Epoch 341/500\n",
      "160/160 [==============================] - 0s 630us/step - loss: 0.0464 - accuracy: 0.9513\n",
      "Epoch 342/500\n",
      "160/160 [==============================] - 0s 580us/step - loss: 0.0464 - accuracy: 0.9513\n",
      "Epoch 343/500\n",
      "160/160 [==============================] - 0s 642us/step - loss: 0.0464 - accuracy: 0.95130s - loss: 0.0496 - accuracy: 0.\n",
      "Epoch 344/500\n",
      "160/160 [==============================] - 0s 611us/step - loss: 0.0464 - accuracy: 0.9513\n",
      "Epoch 345/500\n",
      "160/160 [==============================] - 0s 604us/step - loss: 0.0464 - accuracy: 0.9513\n",
      "Epoch 346/500\n",
      "160/160 [==============================] - 0s 586us/step - loss: 0.0464 - accuracy: 0.9513\n",
      "Epoch 347/500\n",
      "160/160 [==============================] - 0s 566us/step - loss: 0.0464 - accuracy: 0.9513\n",
      "Epoch 348/500\n",
      "160/160 [==============================] - 0s 549us/step - loss: 0.0464 - accuracy: 0.9513\n",
      "Epoch 349/500\n",
      "160/160 [==============================] - 0s 596us/step - loss: 0.0464 - accuracy: 0.9513\n",
      "Epoch 350/500\n",
      "160/160 [==============================] - 0s 511us/step - loss: 0.0464 - accuracy: 0.9513\n",
      "Epoch 351/500\n",
      "160/160 [==============================] - 0s 511us/step - loss: 0.0464 - accuracy: 0.9513\n",
      "Epoch 352/500\n",
      "160/160 [==============================] - 0s 549us/step - loss: 0.0464 - accuracy: 0.9513\n",
      "Epoch 353/500\n",
      "160/160 [==============================] - 0s 567us/step - loss: 0.0464 - accuracy: 0.9513\n",
      "Epoch 354/500\n",
      "160/160 [==============================] - 0s 530us/step - loss: 0.0464 - accuracy: 0.9513\n",
      "Epoch 355/500\n",
      "160/160 [==============================] - 0s 530us/step - loss: 0.0464 - accuracy: 0.9513\n",
      "Epoch 356/500\n",
      "160/160 [==============================] - 0s 630us/step - loss: 0.0464 - accuracy: 0.9513\n",
      "Epoch 357/500\n",
      "160/160 [==============================] - 0s 536us/step - loss: 0.0464 - accuracy: 0.9513\n",
      "Epoch 358/500\n",
      "160/160 [==============================] - 0s 536us/step - loss: 0.0464 - accuracy: 0.9513\n",
      "Epoch 359/500\n",
      "160/160 [==============================] - 0s 555us/step - loss: 0.0464 - accuracy: 0.9513\n",
      "Epoch 360/500\n",
      "160/160 [==============================] - 0s 642us/step - loss: 0.0464 - accuracy: 0.9513\n",
      "Epoch 361/500\n",
      "160/160 [==============================] - 0s 599us/step - loss: 0.0464 - accuracy: 0.9513\n",
      "Epoch 362/500\n",
      "160/160 [==============================] - 0s 505us/step - loss: 0.0464 - accuracy: 0.9513\n",
      "Epoch 363/500\n",
      "160/160 [==============================] - 0s 536us/step - loss: 0.0464 - accuracy: 0.9513\n",
      "Epoch 364/500\n",
      "160/160 [==============================] - 0s 465us/step - loss: 0.0464 - accuracy: 0.9513\n",
      "Epoch 365/500\n",
      "160/160 [==============================] - 0s 515us/step - loss: 0.0464 - accuracy: 0.9513\n",
      "Epoch 366/500\n",
      "160/160 [==============================] - 0s 480us/step - loss: 0.0464 - accuracy: 0.9513\n",
      "Epoch 367/500\n",
      "160/160 [==============================] - 0s 511us/step - loss: 0.0464 - accuracy: 0.9513\n",
      "Epoch 368/500\n",
      "160/160 [==============================] - 0s 564us/step - loss: 0.0464 - accuracy: 0.9513\n",
      "Epoch 369/500\n",
      "160/160 [==============================] - 0s 474us/step - loss: 0.0464 - accuracy: 0.9513\n",
      "Epoch 370/500\n",
      "160/160 [==============================] - 0s 542us/step - loss: 0.0464 - accuracy: 0.9513\n",
      "Epoch 371/500\n",
      "160/160 [==============================] - 0s 523us/step - loss: 0.0464 - accuracy: 0.9513\n",
      "Epoch 372/500\n",
      "160/160 [==============================] - 0s 460us/step - loss: 0.0464 - accuracy: 0.9513\n",
      "Epoch 373/500\n",
      "160/160 [==============================] - 0s 514us/step - loss: 0.0464 - accuracy: 0.9513\n",
      "Epoch 374/500\n",
      "160/160 [==============================] - 0s 545us/step - loss: 0.0464 - accuracy: 0.9513\n",
      "Epoch 375/500\n",
      "160/160 [==============================] - 0s 541us/step - loss: 0.0464 - accuracy: 0.9513\n",
      "Epoch 376/500\n",
      "160/160 [==============================] - 0s 501us/step - loss: 0.0464 - accuracy: 0.9513\n",
      "Epoch 377/500\n",
      "160/160 [==============================] - 0s 603us/step - loss: 0.0464 - accuracy: 0.9513\n",
      "Epoch 378/500\n",
      "160/160 [==============================] - 0s 567us/step - loss: 0.0464 - accuracy: 0.9513\n",
      "Epoch 379/500\n",
      "160/160 [==============================] - 0s 558us/step - loss: 0.0464 - accuracy: 0.9513\n",
      "Epoch 380/500\n",
      "160/160 [==============================] - 0s 549us/step - loss: 0.0464 - accuracy: 0.9513\n",
      "Epoch 381/500\n",
      "160/160 [==============================] - 0s 577us/step - loss: 0.0464 - accuracy: 0.9513\n",
      "Epoch 382/500\n",
      "160/160 [==============================] - 0s 573us/step - loss: 0.0464 - accuracy: 0.9513\n",
      "Epoch 383/500\n",
      "160/160 [==============================] - 0s 682us/step - loss: 0.0464 - accuracy: 0.9513\n",
      "Epoch 384/500\n",
      "160/160 [==============================] - 0s 524us/step - loss: 0.0464 - accuracy: 0.9513\n",
      "Epoch 385/500\n",
      "160/160 [==============================] - 0s 534us/step - loss: 0.0464 - accuracy: 0.9513\n",
      "Epoch 386/500\n",
      "160/160 [==============================] - 0s 648us/step - loss: 0.0464 - accuracy: 0.9513\n",
      "Epoch 387/500\n",
      "160/160 [==============================] - 0s 623us/step - loss: 0.0464 - accuracy: 0.9513\n",
      "Epoch 388/500\n",
      "160/160 [==============================] - 0s 609us/step - loss: 0.0464 - accuracy: 0.9513\n",
      "Epoch 389/500\n",
      "160/160 [==============================] - 0s 554us/step - loss: 0.0464 - accuracy: 0.9513\n",
      "Epoch 390/500\n",
      "160/160 [==============================] - 0s 589us/step - loss: 0.0464 - accuracy: 0.9513\n",
      "Epoch 391/500\n",
      "160/160 [==============================] - 0s 521us/step - loss: 0.0464 - accuracy: 0.9513\n",
      "Epoch 392/500\n",
      "160/160 [==============================] - 0s 611us/step - loss: 0.0464 - accuracy: 0.9513\n",
      "Epoch 393/500\n",
      "160/160 [==============================] - 0s 623us/step - loss: 0.0464 - accuracy: 0.9513\n",
      "Epoch 394/500\n",
      "160/160 [==============================] - 0s 517us/step - loss: 0.0464 - accuracy: 0.9513\n",
      "Epoch 395/500\n",
      "160/160 [==============================] - 0s 573us/step - loss: 0.0464 - accuracy: 0.9513\n",
      "Epoch 396/500\n",
      "160/160 [==============================] - 0s 499us/step - loss: 0.0464 - accuracy: 0.9513\n",
      "Epoch 397/500\n",
      "160/160 [==============================] - 0s 536us/step - loss: 0.0464 - accuracy: 0.9513\n",
      "Epoch 398/500\n",
      "160/160 [==============================] - 0s 499us/step - loss: 0.0464 - accuracy: 0.9513\n",
      "Epoch 399/500\n",
      "160/160 [==============================] - 0s 549us/step - loss: 0.0464 - accuracy: 0.9513\n",
      "Epoch 400/500\n",
      "160/160 [==============================] - 0s 567us/step - loss: 0.0464 - accuracy: 0.9513\n",
      "Epoch 401/500\n",
      "160/160 [==============================] - 0s 592us/step - loss: 0.0464 - accuracy: 0.9513\n",
      "Epoch 402/500\n",
      "160/160 [==============================] - 0s 511us/step - loss: 0.0464 - accuracy: 0.9513\n",
      "Epoch 403/500\n",
      "160/160 [==============================] - 0s 497us/step - loss: 0.0464 - accuracy: 0.9513\n",
      "Epoch 404/500\n",
      "160/160 [==============================] - 0s 601us/step - loss: 0.0464 - accuracy: 0.9513\n",
      "Epoch 405/500\n",
      "160/160 [==============================] - 0s 611us/step - loss: 0.0464 - accuracy: 0.9513\n",
      "Epoch 406/500\n",
      "160/160 [==============================] - 0s 542us/step - loss: 0.0464 - accuracy: 0.9513\n",
      "Epoch 407/500\n",
      "160/160 [==============================] - 0s 492us/step - loss: 0.0464 - accuracy: 0.9513\n",
      "Epoch 408/500\n",
      "160/160 [==============================] - 0s 553us/step - loss: 0.0464 - accuracy: 0.9513\n",
      "Epoch 409/500\n",
      "160/160 [==============================] - 0s 496us/step - loss: 0.0464 - accuracy: 0.9513\n",
      "Epoch 410/500\n",
      "160/160 [==============================] - 0s 562us/step - loss: 0.0464 - accuracy: 0.9513\n",
      "Epoch 411/500\n",
      "160/160 [==============================] - 0s 580us/step - loss: 0.0464 - accuracy: 0.9513\n",
      "Epoch 412/500\n",
      "160/160 [==============================] - 0s 505us/step - loss: 0.0464 - accuracy: 0.9513\n",
      "Epoch 413/500\n",
      "160/160 [==============================] - 0s 586us/step - loss: 0.0464 - accuracy: 0.9513\n",
      "Epoch 414/500\n",
      "160/160 [==============================] - 0s 536us/step - loss: 0.0464 - accuracy: 0.9513\n",
      "Epoch 415/500\n",
      "160/160 [==============================] - 0s 630us/step - loss: 0.0464 - accuracy: 0.9513\n",
      "Epoch 416/500\n",
      "160/160 [==============================] - 0s 605us/step - loss: 0.0464 - accuracy: 0.9513\n",
      "Epoch 417/500\n",
      "160/160 [==============================] - 0s 507us/step - loss: 0.0464 - accuracy: 0.9513\n",
      "Epoch 418/500\n",
      "160/160 [==============================] - 0s 505us/step - loss: 0.0464 - accuracy: 0.9513\n",
      "Epoch 419/500\n",
      "160/160 [==============================] - 0s 447us/step - loss: 0.0464 - accuracy: 0.9513\n",
      "Epoch 420/500\n",
      "160/160 [==============================] - 0s 516us/step - loss: 0.0464 - accuracy: 0.9513\n",
      "Epoch 421/500\n",
      "160/160 [==============================] - 0s 444us/step - loss: 0.0464 - accuracy: 0.9513\n",
      "Epoch 422/500\n",
      "160/160 [==============================] - 0s 488us/step - loss: 0.0464 - accuracy: 0.9513\n",
      "Epoch 423/500\n",
      "160/160 [==============================] - 0s 486us/step - loss: 0.0464 - accuracy: 0.9513\n",
      "Epoch 424/500\n",
      "160/160 [==============================] - 0s 480us/step - loss: 0.0464 - accuracy: 0.9513\n",
      "Epoch 425/500\n",
      "160/160 [==============================] - 0s 567us/step - loss: 0.0464 - accuracy: 0.9513\n",
      "Epoch 426/500\n",
      "160/160 [==============================] - 0s 646us/step - loss: 0.0464 - accuracy: 0.9513\n",
      "Epoch 427/500\n",
      "160/160 [==============================] - 0s 598us/step - loss: 0.0464 - accuracy: 0.9513\n",
      "Epoch 428/500\n",
      "160/160 [==============================] - 0s 579us/step - loss: 0.0464 - accuracy: 0.9513\n",
      "Epoch 429/500\n",
      "160/160 [==============================] - 0s 602us/step - loss: 0.0464 - accuracy: 0.9513\n",
      "Epoch 430/500\n",
      "160/160 [==============================] - 0s 556us/step - loss: 0.0464 - accuracy: 0.9513\n",
      "Epoch 431/500\n",
      "160/160 [==============================] - 0s 711us/step - loss: 0.0464 - accuracy: 0.9513\n",
      "Epoch 432/500\n",
      "160/160 [==============================] - 0s 574us/step - loss: 0.0464 - accuracy: 0.9513\n",
      "Epoch 433/500\n",
      "160/160 [==============================] - 0s 555us/step - loss: 0.0464 - accuracy: 0.9513\n",
      "Epoch 434/500\n",
      "160/160 [==============================] - 0s 507us/step - loss: 0.0464 - accuracy: 0.9513\n",
      "Epoch 435/500\n",
      "160/160 [==============================] - 0s 555us/step - loss: 0.0464 - accuracy: 0.9513\n",
      "Epoch 436/500\n",
      "160/160 [==============================] - 0s 499us/step - loss: 0.0464 - accuracy: 0.9513\n",
      "Epoch 437/500\n",
      "160/160 [==============================] - 0s 580us/step - loss: 0.0464 - accuracy: 0.9513\n",
      "Epoch 438/500\n",
      "160/160 [==============================] - 0s 523us/step - loss: 0.0464 - accuracy: 0.9513\n",
      "Epoch 439/500\n",
      "160/160 [==============================] - 0s 530us/step - loss: 0.0464 - accuracy: 0.9513\n",
      "Epoch 440/500\n",
      "160/160 [==============================] - 0s 580us/step - loss: 0.0464 - accuracy: 0.9513\n",
      "Epoch 441/500\n",
      "160/160 [==============================] - 0s 511us/step - loss: 0.0464 - accuracy: 0.9513\n",
      "Epoch 442/500\n",
      "160/160 [==============================] - 0s 623us/step - loss: 0.0464 - accuracy: 0.9513\n",
      "Epoch 443/500\n",
      "160/160 [==============================] - 0s 529us/step - loss: 0.0464 - accuracy: 0.9513\n",
      "Epoch 444/500\n",
      "160/160 [==============================] - 0s 592us/step - loss: 0.0464 - accuracy: 0.9513\n",
      "Epoch 445/500\n",
      "160/160 [==============================] - 0s 561us/step - loss: 0.0465 - accuracy: 0.9513\n",
      "Epoch 446/500\n",
      "160/160 [==============================] - 0s 573us/step - loss: 0.0467 - accuracy: 0.9513\n",
      "Epoch 447/500\n",
      "160/160 [==============================] - 0s 573us/step - loss: 0.0468 - accuracy: 0.9513\n",
      "Epoch 448/500\n",
      "160/160 [==============================] - 0s 598us/step - loss: 0.0471 - accuracy: 0.9513\n",
      "Epoch 449/500\n",
      "160/160 [==============================] - 0s 599us/step - loss: 0.0474 - accuracy: 0.9513\n",
      "Epoch 450/500\n",
      "160/160 [==============================] - 0s 536us/step - loss: 0.0477 - accuracy: 0.9513\n",
      "Epoch 451/500\n",
      "160/160 [==============================] - 0s 549us/step - loss: 0.0481 - accuracy: 0.9513\n",
      "Epoch 452/500\n",
      "160/160 [==============================] - 0s 542us/step - loss: 0.0484 - accuracy: 0.9513\n",
      "Epoch 453/500\n",
      "160/160 [==============================] - 0s 642us/step - loss: 0.0487 - accuracy: 0.9513\n",
      "Epoch 454/500\n",
      "160/160 [==============================] - 0s 573us/step - loss: 0.0492 - accuracy: 0.9513\n",
      "Epoch 455/500\n",
      "160/160 [==============================] - 0s 623us/step - loss: 0.0495 - accuracy: 0.9513\n",
      "Epoch 456/500\n",
      "160/160 [==============================] - 0s 468us/step - loss: 0.0498 - accuracy: 0.9513\n",
      "Epoch 457/500\n",
      "160/160 [==============================] - 0s 468us/step - loss: 0.0500 - accuracy: 0.9513\n",
      "Epoch 458/500\n",
      "160/160 [==============================] - 0s 505us/step - loss: 0.0501 - accuracy: 0.9513\n",
      "Epoch 459/500\n",
      "160/160 [==============================] - 0s 485us/step - loss: 0.0502 - accuracy: 0.9513\n",
      "Epoch 460/500\n",
      "160/160 [==============================] - 0s 517us/step - loss: 0.0503 - accuracy: 0.9513\n",
      "Epoch 461/500\n",
      "160/160 [==============================] - 0s 536us/step - loss: 0.0503 - accuracy: 0.9513\n",
      "Epoch 462/500\n",
      "160/160 [==============================] - 0s 565us/step - loss: 0.0501 - accuracy: 0.9513\n",
      "Epoch 463/500\n",
      "160/160 [==============================] - 0s 550us/step - loss: 0.0499 - accuracy: 0.9513\n",
      "Epoch 464/500\n",
      "160/160 [==============================] - 0s 542us/step - loss: 0.0498 - accuracy: 0.9513\n",
      "Epoch 465/500\n",
      "160/160 [==============================] - 0s 549us/step - loss: 0.0497 - accuracy: 0.9513\n",
      "Epoch 466/500\n",
      "160/160 [==============================] - 0s 531us/step - loss: 0.0496 - accuracy: 0.9513\n",
      "Epoch 467/500\n"
     ]
    },
    {
     "name": "stdout",
     "output_type": "stream",
     "text": [
      "160/160 [==============================] - 0s 592us/step - loss: 0.0495 - accuracy: 0.9513\n",
      "Epoch 468/500\n",
      "160/160 [==============================] - 0s 536us/step - loss: 0.0493 - accuracy: 0.9513\n",
      "Epoch 469/500\n",
      "160/160 [==============================] - 0s 592us/step - loss: 0.0491 - accuracy: 0.9513\n",
      "Epoch 470/500\n",
      "160/160 [==============================] - 0s 542us/step - loss: 0.0487 - accuracy: 0.9513\n",
      "Epoch 471/500\n",
      "160/160 [==============================] - 0s 592us/step - loss: 0.0483 - accuracy: 0.9513\n",
      "Epoch 472/500\n",
      "160/160 [==============================] - 0s 594us/step - loss: 0.0480 - accuracy: 0.9513\n",
      "Epoch 473/500\n",
      "160/160 [==============================] - 0s 542us/step - loss: 0.0477 - accuracy: 0.9513\n",
      "Epoch 474/500\n",
      "160/160 [==============================] - 0s 686us/step - loss: 0.0474 - accuracy: 0.9513\n",
      "Epoch 475/500\n",
      "160/160 [==============================] - 0s 555us/step - loss: 0.0471 - accuracy: 0.9513\n",
      "Epoch 476/500\n",
      "160/160 [==============================] - 0s 637us/step - loss: 0.0470 - accuracy: 0.9513\n",
      "Epoch 477/500\n",
      "160/160 [==============================] - 0s 607us/step - loss: 0.0468 - accuracy: 0.9513\n",
      "Epoch 478/500\n",
      "160/160 [==============================] - 0s 567us/step - loss: 0.0467 - accuracy: 0.9513\n",
      "Epoch 479/500\n",
      "160/160 [==============================] - 0s 578us/step - loss: 0.0466 - accuracy: 0.9513\n",
      "Epoch 480/500\n",
      "160/160 [==============================] - 0s 561us/step - loss: 0.0465 - accuracy: 0.9513\n",
      "Epoch 481/500\n",
      "160/160 [==============================] - 0s 683us/step - loss: 0.0465 - accuracy: 0.9513\n",
      "Epoch 482/500\n",
      "160/160 [==============================] - 0s 654us/step - loss: 0.0464 - accuracy: 0.9513\n",
      "Epoch 483/500\n",
      "160/160 [==============================] - 0s 625us/step - loss: 0.0464 - accuracy: 0.9513\n",
      "Epoch 484/500\n",
      "160/160 [==============================] - 0s 729us/step - loss: 0.0464 - accuracy: 0.9513\n",
      "Epoch 485/500\n",
      "160/160 [==============================] - 0s 684us/step - loss: 0.0464 - accuracy: 0.9513\n",
      "Epoch 486/500\n",
      "160/160 [==============================] - 0s 960us/step - loss: 0.0464 - accuracy: 0.9513\n",
      "Epoch 487/500\n",
      "160/160 [==============================] - 0s 674us/step - loss: 0.0464 - accuracy: 0.9513\n",
      "Epoch 488/500\n",
      "160/160 [==============================] - 0s 494us/step - loss: 0.0464 - accuracy: 0.9513\n",
      "Epoch 489/500\n",
      "160/160 [==============================] - 0s 567us/step - loss: 0.0463 - accuracy: 0.9513\n",
      "Epoch 490/500\n",
      "160/160 [==============================] - 0s 502us/step - loss: 0.0464 - accuracy: 0.9513\n",
      "Epoch 491/500\n",
      "160/160 [==============================] - 0s 486us/step - loss: 0.0464 - accuracy: 0.9513\n",
      "Epoch 492/500\n",
      "160/160 [==============================] - 0s 562us/step - loss: 0.0464 - accuracy: 0.9513\n",
      "Epoch 493/500\n",
      "160/160 [==============================] - 0s 448us/step - loss: 0.0464 - accuracy: 0.9513\n",
      "Epoch 494/500\n",
      "160/160 [==============================] - 0s 492us/step - loss: 0.0464 - accuracy: 0.9513\n",
      "Epoch 495/500\n",
      "160/160 [==============================] - 0s 586us/step - loss: 0.0464 - accuracy: 0.9513\n",
      "Epoch 496/500\n",
      "160/160 [==============================] - 0s 642us/step - loss: 0.0464 - accuracy: 0.9513\n",
      "Epoch 497/500\n",
      "160/160 [==============================] - 0s 664us/step - loss: 0.0463 - accuracy: 0.9513\n",
      "Epoch 498/500\n",
      "160/160 [==============================] - 0s 484us/step - loss: 0.0464 - accuracy: 0.9513\n",
      "Epoch 499/500\n",
      "160/160 [==============================] - 0s 443us/step - loss: 0.0464 - accuracy: 0.9513\n",
      "Epoch 500/500\n",
      "160/160 [==============================] - 0s 443us/step - loss: 0.0464 - accuracy: 0.9513\n"
     ]
    },
    {
     "data": {
      "text/plain": [
       "<tensorflow.python.keras.callbacks.History at 0x15e47bffdf0>"
      ]
     },
     "execution_count": 107,
     "metadata": {},
     "output_type": "execute_result"
    }
   ],
   "source": [
    "modelss.fit(x,y,epochs=500)"
   ]
  },
  {
   "cell_type": "code",
   "execution_count": 108,
   "metadata": {},
   "outputs": [],
   "source": [
    "#modelss.score(xtest,ytest)"
   ]
  },
  {
   "cell_type": "code",
   "execution_count": null,
   "metadata": {},
   "outputs": [],
   "source": []
  },
  {
   "cell_type": "code",
   "execution_count": null,
   "metadata": {},
   "outputs": [],
   "source": []
  },
  {
   "cell_type": "code",
   "execution_count": null,
   "metadata": {},
   "outputs": [],
   "source": []
  },
  {
   "cell_type": "code",
   "execution_count": null,
   "metadata": {},
   "outputs": [],
   "source": []
  },
  {
   "cell_type": "code",
   "execution_count": null,
   "metadata": {},
   "outputs": [],
   "source": []
  },
  {
   "cell_type": "markdown",
   "metadata": {},
   "source": [
    "# Logistic Regression"
   ]
  },
  {
   "cell_type": "code",
   "execution_count": 109,
   "metadata": {},
   "outputs": [],
   "source": [
    "from sklearn.linear_model import LogisticRegression\n",
    "LR = LogisticRegression(multi_class='multinomial', random_state=1)"
   ]
  },
  {
   "cell_type": "code",
   "execution_count": 110,
   "metadata": {},
   "outputs": [
    {
     "name": "stderr",
     "output_type": "stream",
     "text": [
      "C:\\Users\\Polash\\AppData\\Roaming\\Python\\Python38\\site-packages\\sklearn\\linear_model\\_logistic.py:763: ConvergenceWarning: lbfgs failed to converge (status=1):\n",
      "STOP: TOTAL NO. of ITERATIONS REACHED LIMIT.\n",
      "\n",
      "Increase the number of iterations (max_iter) or scale the data as shown in:\n",
      "    https://scikit-learn.org/stable/modules/preprocessing.html\n",
      "Please also refer to the documentation for alternative solver options:\n",
      "    https://scikit-learn.org/stable/modules/linear_model.html#logistic-regression\n",
      "  n_iter_i = _check_optimize_result(\n"
     ]
    },
    {
     "data": {
      "text/plain": [
       "LogisticRegression(multi_class='multinomial', random_state=1)"
      ]
     },
     "execution_count": 110,
     "metadata": {},
     "output_type": "execute_result"
    }
   ],
   "source": [
    "LR.fit(xtrain,ytrain)"
   ]
  },
  {
   "cell_type": "code",
   "execution_count": 111,
   "metadata": {},
   "outputs": [
    {
     "data": {
      "text/plain": [
       "array([0, 0, 0, ..., 0, 0, 0], dtype=int64)"
      ]
     },
     "execution_count": 111,
     "metadata": {},
     "output_type": "execute_result"
    }
   ],
   "source": [
    "predlr=LR.predict(xtest)\n",
    "predlr"
   ]
  },
  {
   "cell_type": "code",
   "execution_count": 112,
   "metadata": {},
   "outputs": [
    {
     "name": "stdout",
     "output_type": "stream",
     "text": [
      "              precision    recall  f1-score   support\n",
      "\n",
      "           0       0.96      1.00      0.98      1222\n",
      "           1       0.00      0.00      0.00        56\n",
      "\n",
      "    accuracy                           0.96      1278\n",
      "   macro avg       0.48      0.50      0.49      1278\n",
      "weighted avg       0.91      0.96      0.93      1278\n",
      "\n"
     ]
    },
    {
     "name": "stderr",
     "output_type": "stream",
     "text": [
      "C:\\Users\\Polash\\AppData\\Roaming\\Python\\Python38\\site-packages\\sklearn\\metrics\\_classification.py:1245: UndefinedMetricWarning: Precision and F-score are ill-defined and being set to 0.0 in labels with no predicted samples. Use `zero_division` parameter to control this behavior.\n",
      "  _warn_prf(average, modifier, msg_start, len(result))\n",
      "C:\\Users\\Polash\\AppData\\Roaming\\Python\\Python38\\site-packages\\sklearn\\metrics\\_classification.py:1245: UndefinedMetricWarning: Precision and F-score are ill-defined and being set to 0.0 in labels with no predicted samples. Use `zero_division` parameter to control this behavior.\n",
      "  _warn_prf(average, modifier, msg_start, len(result))\n",
      "C:\\Users\\Polash\\AppData\\Roaming\\Python\\Python38\\site-packages\\sklearn\\metrics\\_classification.py:1245: UndefinedMetricWarning: Precision and F-score are ill-defined and being set to 0.0 in labels with no predicted samples. Use `zero_division` parameter to control this behavior.\n",
      "  _warn_prf(average, modifier, msg_start, len(result))\n"
     ]
    }
   ],
   "source": [
    "from sklearn.metrics import classification_report\n",
    "print(classification_report(ytest,predlr))"
   ]
  },
  {
   "cell_type": "code",
   "execution_count": 113,
   "metadata": {},
   "outputs": [
    {
     "name": "stdout",
     "output_type": "stream",
     "text": [
      "[[1222    0]\n",
      " [  56    0]]\n"
     ]
    }
   ],
   "source": [
    "from sklearn.metrics import confusion_matrix\n",
    "print(confusion_matrix(ytest,predlr))"
   ]
  },
  {
   "cell_type": "code",
   "execution_count": 114,
   "metadata": {},
   "outputs": [
    {
     "data": {
      "text/plain": [
       "0.9561815336463224"
      ]
     },
     "execution_count": 114,
     "metadata": {},
     "output_type": "execute_result"
    }
   ],
   "source": [
    "from sklearn.metrics import accuracy_score\n",
    "accuracy_score(ytest,predlr)"
   ]
  },
  {
   "cell_type": "code",
   "execution_count": null,
   "metadata": {},
   "outputs": [],
   "source": []
  },
  {
   "cell_type": "code",
   "execution_count": 115,
   "metadata": {},
   "outputs": [
    {
     "data": {
      "text/plain": [
       "0.9561815336463224"
      ]
     },
     "execution_count": 115,
     "metadata": {},
     "output_type": "execute_result"
    }
   ],
   "source": [
    "LR.score(xtest,ytest)"
   ]
  },
  {
   "cell_type": "code",
   "execution_count": null,
   "metadata": {},
   "outputs": [],
   "source": []
  },
  {
   "cell_type": "code",
   "execution_count": null,
   "metadata": {},
   "outputs": [],
   "source": []
  },
  {
   "cell_type": "code",
   "execution_count": null,
   "metadata": {},
   "outputs": [],
   "source": []
  },
  {
   "cell_type": "code",
   "execution_count": null,
   "metadata": {},
   "outputs": [],
   "source": []
  },
  {
   "cell_type": "markdown",
   "metadata": {},
   "source": [
    "# Stochastic Gradient Descent Classifier"
   ]
  },
  {
   "cell_type": "code",
   "execution_count": 116,
   "metadata": {},
   "outputs": [],
   "source": [
    "from sklearn.linear_model import SGDClassifier\n",
    "SGDC = SGDClassifier()"
   ]
  },
  {
   "cell_type": "code",
   "execution_count": 117,
   "metadata": {},
   "outputs": [
    {
     "data": {
      "text/plain": [
       "SGDClassifier()"
      ]
     },
     "execution_count": 117,
     "metadata": {},
     "output_type": "execute_result"
    }
   ],
   "source": [
    "SGDC.fit(xtrain,ytrain)"
   ]
  },
  {
   "cell_type": "code",
   "execution_count": 118,
   "metadata": {},
   "outputs": [
    {
     "data": {
      "text/plain": [
       "array([0, 0, 0, ..., 0, 0, 0], dtype=int64)"
      ]
     },
     "execution_count": 118,
     "metadata": {},
     "output_type": "execute_result"
    }
   ],
   "source": [
    "predsgdc=SGDC.predict(xtest)\n",
    "predsgdc"
   ]
  },
  {
   "cell_type": "code",
   "execution_count": 119,
   "metadata": {},
   "outputs": [
    {
     "name": "stdout",
     "output_type": "stream",
     "text": [
      "              precision    recall  f1-score   support\n",
      "\n",
      "           0       0.96      1.00      0.98      1222\n",
      "           1       0.00      0.00      0.00        56\n",
      "\n",
      "    accuracy                           0.96      1278\n",
      "   macro avg       0.48      0.50      0.49      1278\n",
      "weighted avg       0.91      0.96      0.93      1278\n",
      "\n"
     ]
    },
    {
     "name": "stderr",
     "output_type": "stream",
     "text": [
      "C:\\Users\\Polash\\AppData\\Roaming\\Python\\Python38\\site-packages\\sklearn\\metrics\\_classification.py:1245: UndefinedMetricWarning: Precision and F-score are ill-defined and being set to 0.0 in labels with no predicted samples. Use `zero_division` parameter to control this behavior.\n",
      "  _warn_prf(average, modifier, msg_start, len(result))\n",
      "C:\\Users\\Polash\\AppData\\Roaming\\Python\\Python38\\site-packages\\sklearn\\metrics\\_classification.py:1245: UndefinedMetricWarning: Precision and F-score are ill-defined and being set to 0.0 in labels with no predicted samples. Use `zero_division` parameter to control this behavior.\n",
      "  _warn_prf(average, modifier, msg_start, len(result))\n",
      "C:\\Users\\Polash\\AppData\\Roaming\\Python\\Python38\\site-packages\\sklearn\\metrics\\_classification.py:1245: UndefinedMetricWarning: Precision and F-score are ill-defined and being set to 0.0 in labels with no predicted samples. Use `zero_division` parameter to control this behavior.\n",
      "  _warn_prf(average, modifier, msg_start, len(result))\n"
     ]
    }
   ],
   "source": [
    "from sklearn.metrics import classification_report\n",
    "print(classification_report(ytest,predsgdc))"
   ]
  },
  {
   "cell_type": "code",
   "execution_count": 120,
   "metadata": {},
   "outputs": [
    {
     "name": "stdout",
     "output_type": "stream",
     "text": [
      "[[1222    0]\n",
      " [  56    0]]\n"
     ]
    }
   ],
   "source": [
    "from sklearn.metrics import confusion_matrix\n",
    "print(confusion_matrix(ytest,predsgdc))"
   ]
  },
  {
   "cell_type": "code",
   "execution_count": 121,
   "metadata": {},
   "outputs": [
    {
     "data": {
      "text/plain": [
       "0.9561815336463224"
      ]
     },
     "execution_count": 121,
     "metadata": {},
     "output_type": "execute_result"
    }
   ],
   "source": [
    "from sklearn.metrics import accuracy_score\n",
    "accuracy_score(ytest,predsgdc)"
   ]
  },
  {
   "cell_type": "code",
   "execution_count": null,
   "metadata": {},
   "outputs": [],
   "source": []
  },
  {
   "cell_type": "code",
   "execution_count": 122,
   "metadata": {},
   "outputs": [
    {
     "data": {
      "text/plain": [
       "0.9561815336463224"
      ]
     },
     "execution_count": 122,
     "metadata": {},
     "output_type": "execute_result"
    }
   ],
   "source": [
    "SGDC.score(xtest,ytest)"
   ]
  },
  {
   "cell_type": "code",
   "execution_count": null,
   "metadata": {},
   "outputs": [],
   "source": []
  },
  {
   "cell_type": "markdown",
   "metadata": {},
   "source": [
    "# Quadratic Discriminant Analysis"
   ]
  },
  {
   "cell_type": "code",
   "execution_count": 123,
   "metadata": {},
   "outputs": [],
   "source": [
    "from sklearn.discriminant_analysis import QuadraticDiscriminantAnalysis\n",
    "QDA = QuadraticDiscriminantAnalysis()"
   ]
  },
  {
   "cell_type": "code",
   "execution_count": 124,
   "metadata": {},
   "outputs": [
    {
     "data": {
      "text/plain": [
       "QuadraticDiscriminantAnalysis()"
      ]
     },
     "execution_count": 124,
     "metadata": {},
     "output_type": "execute_result"
    }
   ],
   "source": [
    "QDA.fit(xtrain,ytrain)\n"
   ]
  },
  {
   "cell_type": "code",
   "execution_count": 125,
   "metadata": {},
   "outputs": [
    {
     "data": {
      "text/plain": [
       "array([1, 1, 0, ..., 0, 0, 0], dtype=int64)"
      ]
     },
     "execution_count": 125,
     "metadata": {},
     "output_type": "execute_result"
    }
   ],
   "source": [
    "predqda=QDA.predict(xtest)\n",
    "predqda"
   ]
  },
  {
   "cell_type": "code",
   "execution_count": 126,
   "metadata": {},
   "outputs": [
    {
     "name": "stdout",
     "output_type": "stream",
     "text": [
      "              precision    recall  f1-score   support\n",
      "\n",
      "           0       0.98      0.89      0.93      1222\n",
      "           1       0.20      0.57      0.29        56\n",
      "\n",
      "    accuracy                           0.88      1278\n",
      "   macro avg       0.59      0.73      0.61      1278\n",
      "weighted avg       0.94      0.88      0.91      1278\n",
      "\n"
     ]
    }
   ],
   "source": [
    "from sklearn.metrics import classification_report\n",
    "print(classification_report(ytest,predqda))"
   ]
  },
  {
   "cell_type": "code",
   "execution_count": 127,
   "metadata": {},
   "outputs": [
    {
     "name": "stdout",
     "output_type": "stream",
     "text": [
      "[[1092  130]\n",
      " [  24   32]]\n"
     ]
    }
   ],
   "source": [
    "from sklearn.metrics import confusion_matrix\n",
    "print(confusion_matrix(ytest,predqda))"
   ]
  },
  {
   "cell_type": "code",
   "execution_count": 128,
   "metadata": {},
   "outputs": [
    {
     "data": {
      "text/plain": [
       "0.8794992175273866"
      ]
     },
     "execution_count": 128,
     "metadata": {},
     "output_type": "execute_result"
    }
   ],
   "source": [
    "from sklearn.metrics import accuracy_score\n",
    "accuracy_score(ytest,predqda)"
   ]
  },
  {
   "cell_type": "code",
   "execution_count": null,
   "metadata": {},
   "outputs": [],
   "source": []
  },
  {
   "cell_type": "code",
   "execution_count": 129,
   "metadata": {},
   "outputs": [
    {
     "data": {
      "text/plain": [
       "0.8794992175273866"
      ]
     },
     "execution_count": 129,
     "metadata": {},
     "output_type": "execute_result"
    }
   ],
   "source": [
    "QDA.score(xtest,ytest)"
   ]
  },
  {
   "cell_type": "code",
   "execution_count": null,
   "metadata": {},
   "outputs": [],
   "source": []
  },
  {
   "cell_type": "code",
   "execution_count": null,
   "metadata": {},
   "outputs": [],
   "source": []
  },
  {
   "cell_type": "markdown",
   "metadata": {},
   "source": [
    "# Ada Boost Classifier"
   ]
  },
  {
   "cell_type": "code",
   "execution_count": 130,
   "metadata": {},
   "outputs": [],
   "source": [
    "from sklearn.ensemble import AdaBoostClassifier\n",
    "ABC = AdaBoostClassifier()"
   ]
  },
  {
   "cell_type": "code",
   "execution_count": 131,
   "metadata": {},
   "outputs": [
    {
     "data": {
      "text/plain": [
       "AdaBoostClassifier()"
      ]
     },
     "execution_count": 131,
     "metadata": {},
     "output_type": "execute_result"
    }
   ],
   "source": [
    "ABC.fit(xtrain,ytrain)\n"
   ]
  },
  {
   "cell_type": "code",
   "execution_count": 132,
   "metadata": {},
   "outputs": [
    {
     "data": {
      "text/plain": [
       "array([0, 0, 0, ..., 0, 0, 0], dtype=int64)"
      ]
     },
     "execution_count": 132,
     "metadata": {},
     "output_type": "execute_result"
    }
   ],
   "source": [
    "predabc=ABC.predict(xtest)\n",
    "predabc"
   ]
  },
  {
   "cell_type": "code",
   "execution_count": 133,
   "metadata": {},
   "outputs": [
    {
     "name": "stdout",
     "output_type": "stream",
     "text": [
      "              precision    recall  f1-score   support\n",
      "\n",
      "           0       0.96      1.00      0.98      1222\n",
      "           1       0.50      0.02      0.03        56\n",
      "\n",
      "    accuracy                           0.96      1278\n",
      "   macro avg       0.73      0.51      0.51      1278\n",
      "weighted avg       0.94      0.96      0.94      1278\n",
      "\n"
     ]
    }
   ],
   "source": [
    "from sklearn.metrics import classification_report\n",
    "print(classification_report(ytest,predabc))"
   ]
  },
  {
   "cell_type": "code",
   "execution_count": 134,
   "metadata": {},
   "outputs": [
    {
     "name": "stdout",
     "output_type": "stream",
     "text": [
      "[[1221    1]\n",
      " [  55    1]]\n"
     ]
    }
   ],
   "source": [
    "from sklearn.metrics import confusion_matrix\n",
    "print(confusion_matrix(ytest,predabc))"
   ]
  },
  {
   "cell_type": "code",
   "execution_count": 135,
   "metadata": {},
   "outputs": [
    {
     "data": {
      "text/plain": [
       "0.9561815336463224"
      ]
     },
     "execution_count": 135,
     "metadata": {},
     "output_type": "execute_result"
    }
   ],
   "source": [
    "from sklearn.metrics import accuracy_score\n",
    "accuracy_score(ytest,predabc)"
   ]
  },
  {
   "cell_type": "code",
   "execution_count": 136,
   "metadata": {},
   "outputs": [
    {
     "data": {
      "text/plain": [
       "0.9561815336463224"
      ]
     },
     "execution_count": 136,
     "metadata": {},
     "output_type": "execute_result"
    }
   ],
   "source": [
    "ABC.score(xtest,ytest)"
   ]
  },
  {
   "cell_type": "code",
   "execution_count": null,
   "metadata": {},
   "outputs": [],
   "source": []
  },
  {
   "cell_type": "markdown",
   "metadata": {},
   "source": [
    "# Multi-layer Perceptron classifier"
   ]
  },
  {
   "cell_type": "code",
   "execution_count": 137,
   "metadata": {},
   "outputs": [],
   "source": [
    "from sklearn.neural_network import MLPClassifier\n",
    "MLPC = MLPClassifier(hidden_layer_sizes=(100),\n",
    "                     activation='relu', \n",
    "                     solver='adam', \n",
    "                     alpha=0.0001,batch_size= 'auto',\n",
    "                     learning_rate='constant',\n",
    "                     learning_rate_init=0.001,\n",
    "                     power_t=0.5, max_iter=200,\n",
    "                     shuffle=True,\n",
    "                     random_state=None,\n",
    "                     tol=0.0001,\n",
    "                     verbose=False,\n",
    "                     warm_start=False, \n",
    "                     momentum=0.9,\n",
    "                     nesterovs_momentum=True,\n",
    "                     early_stopping=False,\n",
    "                     validation_fraction=0.1,\n",
    "                     beta_1=0.9,\n",
    "                     beta_2=0.999,\n",
    "                     epsilon=1e-08)\n",
    "#MLPC = MLPClassifier(alpha=1e-05, hidden_layer_sizes=(5, 2), random_state=1,solver='lbfgs')\n",
    "#MLPC = MLPClassifier(solver='lbfgs', alpha=1e-5,hidden_layer_sizes=(5, 2), random_state=1)"
   ]
  },
  {
   "cell_type": "code",
   "execution_count": 138,
   "metadata": {},
   "outputs": [
    {
     "data": {
      "text/plain": [
       "MLPClassifier(hidden_layer_sizes=100)"
      ]
     },
     "execution_count": 138,
     "metadata": {},
     "output_type": "execute_result"
    }
   ],
   "source": [
    "MLPC.fit(xtrain,ytrain)\n"
   ]
  },
  {
   "cell_type": "code",
   "execution_count": 139,
   "metadata": {},
   "outputs": [
    {
     "data": {
      "text/plain": [
       "array([0, 0, 0, ..., 0, 0, 0], dtype=int64)"
      ]
     },
     "execution_count": 139,
     "metadata": {},
     "output_type": "execute_result"
    }
   ],
   "source": [
    "predmlpc=MLPC.predict(xtest)\n",
    "predmlpc"
   ]
  },
  {
   "cell_type": "code",
   "execution_count": 140,
   "metadata": {},
   "outputs": [
    {
     "name": "stdout",
     "output_type": "stream",
     "text": [
      "              precision    recall  f1-score   support\n",
      "\n",
      "           0       0.96      1.00      0.98      1222\n",
      "           1       0.00      0.00      0.00        56\n",
      "\n",
      "    accuracy                           0.96      1278\n",
      "   macro avg       0.48      0.50      0.49      1278\n",
      "weighted avg       0.91      0.96      0.93      1278\n",
      "\n"
     ]
    },
    {
     "name": "stderr",
     "output_type": "stream",
     "text": [
      "C:\\Users\\Polash\\AppData\\Roaming\\Python\\Python38\\site-packages\\sklearn\\metrics\\_classification.py:1245: UndefinedMetricWarning: Precision and F-score are ill-defined and being set to 0.0 in labels with no predicted samples. Use `zero_division` parameter to control this behavior.\n",
      "  _warn_prf(average, modifier, msg_start, len(result))\n",
      "C:\\Users\\Polash\\AppData\\Roaming\\Python\\Python38\\site-packages\\sklearn\\metrics\\_classification.py:1245: UndefinedMetricWarning: Precision and F-score are ill-defined and being set to 0.0 in labels with no predicted samples. Use `zero_division` parameter to control this behavior.\n",
      "  _warn_prf(average, modifier, msg_start, len(result))\n",
      "C:\\Users\\Polash\\AppData\\Roaming\\Python\\Python38\\site-packages\\sklearn\\metrics\\_classification.py:1245: UndefinedMetricWarning: Precision and F-score are ill-defined and being set to 0.0 in labels with no predicted samples. Use `zero_division` parameter to control this behavior.\n",
      "  _warn_prf(average, modifier, msg_start, len(result))\n"
     ]
    }
   ],
   "source": [
    "from sklearn.metrics import classification_report\n",
    "print(classification_report(ytest,predmlpc))"
   ]
  },
  {
   "cell_type": "code",
   "execution_count": 141,
   "metadata": {},
   "outputs": [
    {
     "name": "stdout",
     "output_type": "stream",
     "text": [
      "[[1222    0]\n",
      " [  56    0]]\n"
     ]
    }
   ],
   "source": [
    "from sklearn.metrics import confusion_matrix\n",
    "print(confusion_matrix(ytest,predmlpc))"
   ]
  },
  {
   "cell_type": "code",
   "execution_count": 142,
   "metadata": {},
   "outputs": [
    {
     "data": {
      "text/plain": [
       "0.9561815336463224"
      ]
     },
     "execution_count": 142,
     "metadata": {},
     "output_type": "execute_result"
    }
   ],
   "source": [
    "from sklearn.metrics import accuracy_score\n",
    "accuracy_score(ytest,predmlpc)"
   ]
  },
  {
   "cell_type": "code",
   "execution_count": null,
   "metadata": {},
   "outputs": [],
   "source": []
  },
  {
   "cell_type": "code",
   "execution_count": null,
   "metadata": {},
   "outputs": [],
   "source": []
  },
  {
   "cell_type": "code",
   "execution_count": 143,
   "metadata": {},
   "outputs": [
    {
     "data": {
      "text/plain": [
       "0.9561815336463224"
      ]
     },
     "execution_count": 143,
     "metadata": {},
     "output_type": "execute_result"
    }
   ],
   "source": [
    "MLPC.score(xtest,ytest)"
   ]
  },
  {
   "cell_type": "code",
   "execution_count": null,
   "metadata": {},
   "outputs": [],
   "source": []
  },
  {
   "cell_type": "markdown",
   "metadata": {},
   "source": [
    "# Voting Classifier"
   ]
  },
  {
   "cell_type": "code",
   "execution_count": 144,
   "metadata": {},
   "outputs": [],
   "source": [
    "from sklearn.ensemble import VotingClassifier"
   ]
  },
  {
   "cell_type": "code",
   "execution_count": 145,
   "metadata": {},
   "outputs": [],
   "source": [
    "modelss=[('model',model),('rfc',rfc),('dtc',dtc),('gnb',gnb),('KNNC',KNNC),('BC',BC),('GBC',GBC),('ETC',ETC),('LR',LR),('SGDC',SGDC),('QDA',QDA),('ABC',ABC),('MLPC',MLPC)]\n",
    "vcf=VotingClassifier(estimators=modelss,voting='hard',weights=[2,1,1,1,1,1,1,1,1,1,1,1,1],flatten_transform=False)"
   ]
  },
  {
   "cell_type": "code",
   "execution_count": 146,
   "metadata": {},
   "outputs": [
    {
     "name": "stderr",
     "output_type": "stream",
     "text": [
      "C:\\Users\\Polash\\AppData\\Roaming\\Python\\Python38\\site-packages\\sklearn\\linear_model\\_logistic.py:763: ConvergenceWarning: lbfgs failed to converge (status=1):\n",
      "STOP: TOTAL NO. of ITERATIONS REACHED LIMIT.\n",
      "\n",
      "Increase the number of iterations (max_iter) or scale the data as shown in:\n",
      "    https://scikit-learn.org/stable/modules/preprocessing.html\n",
      "Please also refer to the documentation for alternative solver options:\n",
      "    https://scikit-learn.org/stable/modules/linear_model.html#logistic-regression\n",
      "  n_iter_i = _check_optimize_result(\n"
     ]
    },
    {
     "data": {
      "text/plain": [
       "0.9561815336463224"
      ]
     },
     "execution_count": 146,
     "metadata": {},
     "output_type": "execute_result"
    }
   ],
   "source": [
    "vcf.fit(xtrain,ytrain)\n",
    "vcf.score(xtest,ytest)"
   ]
  },
  {
   "cell_type": "code",
   "execution_count": 147,
   "metadata": {},
   "outputs": [
    {
     "data": {
      "text/plain": [
       "array([0, 0, 0, ..., 0, 0, 0], dtype=int64)"
      ]
     },
     "execution_count": 147,
     "metadata": {},
     "output_type": "execute_result"
    }
   ],
   "source": [
    "predvcf=vcf.predict(xtest)\n",
    "predvcf"
   ]
  },
  {
   "cell_type": "code",
   "execution_count": 148,
   "metadata": {},
   "outputs": [
    {
     "name": "stdout",
     "output_type": "stream",
     "text": [
      "              precision    recall  f1-score   support\n",
      "\n",
      "           0       0.96      1.00      0.98      1222\n",
      "           1       0.00      0.00      0.00        56\n",
      "\n",
      "    accuracy                           0.96      1278\n",
      "   macro avg       0.48      0.50      0.49      1278\n",
      "weighted avg       0.91      0.96      0.93      1278\n",
      "\n"
     ]
    },
    {
     "name": "stderr",
     "output_type": "stream",
     "text": [
      "C:\\Users\\Polash\\AppData\\Roaming\\Python\\Python38\\site-packages\\sklearn\\metrics\\_classification.py:1245: UndefinedMetricWarning: Precision and F-score are ill-defined and being set to 0.0 in labels with no predicted samples. Use `zero_division` parameter to control this behavior.\n",
      "  _warn_prf(average, modifier, msg_start, len(result))\n",
      "C:\\Users\\Polash\\AppData\\Roaming\\Python\\Python38\\site-packages\\sklearn\\metrics\\_classification.py:1245: UndefinedMetricWarning: Precision and F-score are ill-defined and being set to 0.0 in labels with no predicted samples. Use `zero_division` parameter to control this behavior.\n",
      "  _warn_prf(average, modifier, msg_start, len(result))\n",
      "C:\\Users\\Polash\\AppData\\Roaming\\Python\\Python38\\site-packages\\sklearn\\metrics\\_classification.py:1245: UndefinedMetricWarning: Precision and F-score are ill-defined and being set to 0.0 in labels with no predicted samples. Use `zero_division` parameter to control this behavior.\n",
      "  _warn_prf(average, modifier, msg_start, len(result))\n"
     ]
    }
   ],
   "source": [
    "from sklearn.metrics import classification_report\n",
    "print(classification_report(ytest,predvcf))"
   ]
  },
  {
   "cell_type": "code",
   "execution_count": 149,
   "metadata": {},
   "outputs": [
    {
     "name": "stdout",
     "output_type": "stream",
     "text": [
      "[[1222    0]\n",
      " [  56    0]]\n"
     ]
    }
   ],
   "source": [
    "from sklearn.metrics import confusion_matrix\n",
    "print(confusion_matrix(ytest,predvcf))"
   ]
  },
  {
   "cell_type": "code",
   "execution_count": null,
   "metadata": {},
   "outputs": [],
   "source": []
  },
  {
   "cell_type": "code",
   "execution_count": null,
   "metadata": {},
   "outputs": [],
   "source": []
  },
  {
   "cell_type": "code",
   "execution_count": null,
   "metadata": {},
   "outputs": [],
   "source": []
  }
 ],
 "metadata": {
  "kernelspec": {
   "display_name": "Python 3",
   "language": "python",
   "name": "python3"
  },
  "language_info": {
   "codemirror_mode": {
    "name": "ipython",
    "version": 3
   },
   "file_extension": ".py",
   "mimetype": "text/x-python",
   "name": "python",
   "nbconvert_exporter": "python",
   "pygments_lexer": "ipython3",
   "version": "3.8.0"
  }
 },
 "nbformat": 4,
 "nbformat_minor": 4
}
